{
  "nbformat": 4,
  "nbformat_minor": 0,
  "metadata": {
    "colab": {
      "provenance": [],
      "collapsed_sections": [
        "v3HArkYD_Emp"
      ]
    },
    "kernelspec": {
      "name": "python3",
      "display_name": "Python 3"
    },
    "language_info": {
      "name": "python"
    }
  },
  "cells": [
    {
      "cell_type": "markdown",
      "source": [
        "# Разбиение множества на равные части"
      ],
      "metadata": {
        "id": "9Fp4jZDS-2Tl"
      }
    },
    {
      "cell_type": "markdown",
      "source": [
        "## Импорт модулей"
      ],
      "metadata": {
        "id": "v3HArkYD_Emp"
      }
    },
    {
      "cell_type": "code",
      "execution_count": null,
      "metadata": {
        "id": "nyQQ1tdO-kun"
      },
      "outputs": [],
      "source": [
        "import numpy as np\n",
        "import pandas as pd\n",
        "import matplotlib.pyplot as plt"
      ]
    },
    {
      "cell_type": "markdown",
      "source": [
        "## Входные данные"
      ],
      "metadata": {
        "id": "jAyP5lAN_Jae"
      }
    },
    {
      "cell_type": "markdown",
      "source": [
        "Для начала инициализируем начальное множество из 34 чисел:\n",
        "\n",
        "[3380, 1824, 1481, 2060, 1225, 836, 1363, 2705, 4635,\n",
        "648, 2588, 3380, 1952, 3832, 3176, 2316, 2479, 3433,\n",
        "3519, 1363, 1824, 3305, 2156, 3305, 3049, 3980, 2787,\n",
        "4635, 4068, 2992, 5932, 528, 3304, 4107]"
      ],
      "metadata": {
        "id": "j8PaK5vvGRMN"
      }
    },
    {
      "cell_type": "code",
      "source": [
        "U = np.array([3380, 1824, 1481, 2060, 1225, 836, 1363, 2705, 4635,\n",
        "              648, 2588, 3380, 1952, 3832, 3176, 2316,\n",
        "              2479, 3433, 3519, 1363, 1824, 3305, 2156, 3305,\n",
        "              3049, 3980, 2787, 4635, 4068, 2992, 5932, 528,\n",
        "              3304, 4107], dtype='int16')\n",
        "\n",
        "l = U.size # Количесвто элементов\n",
        "q = 10 # Количесвто подмножеств\n",
        "Q = 100 # Количество особей (разбиений, то есть partitions)\n",
        "total = U.sum()\n",
        "ideal = U.sum()/q # Идеальная сумма в подмножствах\n",
        "\n",
        "print(f'Количество элементов в исходном множестве: {l}')\n",
        "print(f'Количество подмножеств: {q}')\n",
        "print(f'Количество особей: {Q}')\n",
        "print(f'Сумма всех чисел в массиве: {total}')\n",
        "print(f'Идеальная сумма чисел в подмножестве: {ideal}')"
      ],
      "metadata": {
        "colab": {
          "base_uri": "https://localhost:8080/"
        },
        "id": "NY2MSpgF-wsT",
        "outputId": "06403831-f81f-4282-d254-8895e77a6145"
      },
      "execution_count": null,
      "outputs": [
        {
          "output_type": "stream",
          "name": "stdout",
          "text": [
            "Количество элементов в исходном множестве: 34\n",
            "Количество подмножеств: 10\n",
            "Количество особей: 100\n",
            "Сумма всех чисел в массиве: 94167\n",
            "Идеальная сумма чисел в подмножестве: 9416.7\n"
          ]
        }
      ]
    },
    {
      "cell_type": "markdown",
      "source": [
        "## Вспомагательные функции"
      ],
      "metadata": {
        "id": "appoLUjw-Dv4"
      }
    },
    {
      "cell_type": "markdown",
      "source": [
        "### Функции генерирующие разбиения"
      ],
      "metadata": {
        "id": "Bud3b4J2Mi1v"
      }
    },
    {
      "cell_type": "markdown",
      "source": [
        "Теперь определим фнкцию, которая гененрирует разбиения (возвращает двумерный булевый массив) и функцию, которая конвертирует разбиение из двумерного булевого массива в человеческий вид."
      ],
      "metadata": {
        "id": "FlcR9am0GZb2"
      }
    },
    {
      "cell_type": "code",
      "source": [
        "def get_bool_partition(U, q, l):\n",
        "  '''Документация'''\n",
        "  indexes = np.random.randint(0,q,size=U.size) # Каждое число указывает к какому подмножеству оно записывается\n",
        "  bool_partition = []\n",
        "  for subset in np.arange(q):\n",
        "    bool_partition.append(indexes == subset)\n",
        "  return np.array(bool_partition)"
      ],
      "metadata": {
        "id": "qfMNDZEUAReb"
      },
      "execution_count": null,
      "outputs": []
    },
    {
      "cell_type": "code",
      "source": [
        "def get_real_partirion(U, bool_partition):\n",
        "  '''Документация'''\n",
        "  real_partition = []\n",
        "  for bool_subset in bool_partition:\n",
        "    real_partition.append(U[bool_subset])\n",
        "  return real_partition"
      ],
      "metadata": {
        "id": "20I6r6HSuPjC"
      },
      "execution_count": null,
      "outputs": []
    },
    {
      "cell_type": "code",
      "source": [
        "bool_partition = get_bool_partition(U, q, l)\n",
        "real_partition = get_real_partirion(U, bool_partition)\n",
        "real_partition"
      ],
      "metadata": {
        "colab": {
          "base_uri": "https://localhost:8080/"
        },
        "id": "PwcK-vKku5lR",
        "outputId": "981700bd-929a-4aa3-dd04-3ecbf9e98af0"
      },
      "execution_count": null,
      "outputs": [
        {
          "output_type": "execute_result",
          "data": {
            "text/plain": [
              "[array([1225,  648, 3832, 1824, 3305, 4635], dtype=int16),\n",
              " array([4635], dtype=int16),\n",
              " array([528], dtype=int16),\n",
              " array([2060, 1363, 3305], dtype=int16),\n",
              " array([3380, 2992], dtype=int16),\n",
              " array([1824, 2588, 3049, 3980], dtype=int16),\n",
              " array([1363, 1952, 3433, 2156, 4068, 3304, 4107], dtype=int16),\n",
              " array([3380, 2479, 2787], dtype=int16),\n",
              " array([2316, 3519, 5932], dtype=int16),\n",
              " array([1481,  836, 2705, 3176], dtype=int16)]"
            ]
          },
          "metadata": {},
          "execution_count": 730
        }
      ]
    },
    {
      "cell_type": "markdown",
      "source": [
        "### Функции генерирующие популяцию"
      ],
      "metadata": {
        "id": "xrKTA-PLMp_T"
      }
    },
    {
      "cell_type": "markdown",
      "source": [
        "Создаём функцию, которая будет генерировать популяцию:"
      ],
      "metadata": {
        "id": "FFsWhSwjwhOe"
      }
    },
    {
      "cell_type": "code",
      "source": [
        "def create_bool_population(Q,U,q,l):\n",
        "  return [get_bool_partition(U,q,l) for i in range(Q)]"
      ],
      "metadata": {
        "id": "ETcVQEEIvpnR"
      },
      "execution_count": null,
      "outputs": []
    },
    {
      "cell_type": "code",
      "source": [
        "def create_real_population(bool_population):\n",
        "  real_population = []\n",
        "  for bool_partition in bool_population:\n",
        "    real_population.append(get_real_partirion(U, bool_partition))\n",
        "  return real_population"
      ],
      "metadata": {
        "id": "M0f-RpuK2rlS"
      },
      "execution_count": null,
      "outputs": []
    },
    {
      "cell_type": "code",
      "source": [
        "bool_population = create_bool_population(Q,U,q,l)"
      ],
      "metadata": {
        "id": "lfy9CTPQwG8Q"
      },
      "execution_count": null,
      "outputs": []
    },
    {
      "cell_type": "code",
      "source": [
        "real_population = create_real_population(bool_population)\n",
        "real_population[0]"
      ],
      "metadata": {
        "colab": {
          "base_uri": "https://localhost:8080/"
        },
        "id": "syFF_v8y3Bq3",
        "outputId": "85636d59-7aee-491c-9648-8ab3e58702da"
      },
      "execution_count": null,
      "outputs": [
        {
          "output_type": "execute_result",
          "data": {
            "text/plain": [
              "[array([1363, 3980], dtype=int16),\n",
              " array([1363,  648, 3433, 1824, 4635, 2992,  528, 4107], dtype=int16),\n",
              " array([1824, 2705], dtype=int16),\n",
              " array([2060, 2588], dtype=int16),\n",
              " array([1952, 2316], dtype=int16),\n",
              " array([4635, 3380], dtype=int16),\n",
              " array([3380, 3832, 3176, 2787], dtype=int16),\n",
              " array([2156, 5932], dtype=int16),\n",
              " array([1481, 2479, 3519, 3305, 3049, 4068], dtype=int16),\n",
              " array([1225,  836, 3305, 3304], dtype=int16)]"
            ]
          },
          "metadata": {},
          "execution_count": 734
        }
      ]
    },
    {
      "cell_type": "markdown",
      "source": [
        "Необходимо связать два представления популяции перед сортировкой:"
      ],
      "metadata": {
        "id": "IOodlatszjtk"
      }
    },
    {
      "cell_type": "code",
      "source": [
        "def create_union_population(real_population, bool_population, Q):\n",
        "  '''Данная фукнция создаёт общее представлние популяции'''\n",
        "  union_population = []\n",
        "  for i in range(Q):\n",
        "    union_population.append(list(zip(real_population[i], list(bool_population[i]))))\n",
        "  return union_population"
      ],
      "metadata": {
        "id": "Csro5xI-2zaY"
      },
      "execution_count": null,
      "outputs": []
    },
    {
      "cell_type": "code",
      "source": [
        "union_population = create_union_population(real_population, bool_population, Q)\n",
        "union_population[0]"
      ],
      "metadata": {
        "colab": {
          "base_uri": "https://localhost:8080/"
        },
        "id": "YiS_I0990rVc",
        "outputId": "bebb37fa-7a95-4d8f-86a1-175623c59227"
      },
      "execution_count": null,
      "outputs": [
        {
          "output_type": "execute_result",
          "data": {
            "text/plain": [
              "[(array([1363, 3980], dtype=int16),\n",
              "  array([False, False, False, False, False, False, False, False, False,\n",
              "         False, False, False, False, False, False, False, False, False,\n",
              "         False,  True, False, False, False, False, False,  True, False,\n",
              "         False, False, False, False, False, False, False])),\n",
              " (array([1363,  648, 3433, 1824, 4635, 2992,  528, 4107], dtype=int16),\n",
              "  array([False, False, False, False, False, False,  True, False, False,\n",
              "          True, False, False, False, False, False, False, False,  True,\n",
              "         False, False,  True, False, False, False, False, False, False,\n",
              "          True, False,  True, False,  True, False,  True])),\n",
              " (array([1824, 2705], dtype=int16),\n",
              "  array([False,  True, False, False, False, False, False,  True, False,\n",
              "         False, False, False, False, False, False, False, False, False,\n",
              "         False, False, False, False, False, False, False, False, False,\n",
              "         False, False, False, False, False, False, False])),\n",
              " (array([2060, 2588], dtype=int16),\n",
              "  array([False, False, False,  True, False, False, False, False, False,\n",
              "         False,  True, False, False, False, False, False, False, False,\n",
              "         False, False, False, False, False, False, False, False, False,\n",
              "         False, False, False, False, False, False, False])),\n",
              " (array([1952, 2316], dtype=int16),\n",
              "  array([False, False, False, False, False, False, False, False, False,\n",
              "         False, False, False,  True, False, False,  True, False, False,\n",
              "         False, False, False, False, False, False, False, False, False,\n",
              "         False, False, False, False, False, False, False])),\n",
              " (array([4635, 3380], dtype=int16),\n",
              "  array([False, False, False, False, False, False, False, False,  True,\n",
              "         False, False,  True, False, False, False, False, False, False,\n",
              "         False, False, False, False, False, False, False, False, False,\n",
              "         False, False, False, False, False, False, False])),\n",
              " (array([3380, 3832, 3176, 2787], dtype=int16),\n",
              "  array([ True, False, False, False, False, False, False, False, False,\n",
              "         False, False, False, False,  True,  True, False, False, False,\n",
              "         False, False, False, False, False, False, False, False,  True,\n",
              "         False, False, False, False, False, False, False])),\n",
              " (array([2156, 5932], dtype=int16),\n",
              "  array([False, False, False, False, False, False, False, False, False,\n",
              "         False, False, False, False, False, False, False, False, False,\n",
              "         False, False, False, False,  True, False, False, False, False,\n",
              "         False, False, False,  True, False, False, False])),\n",
              " (array([1481, 2479, 3519, 3305, 3049, 4068], dtype=int16),\n",
              "  array([False, False,  True, False, False, False, False, False, False,\n",
              "         False, False, False, False, False, False, False,  True, False,\n",
              "          True, False, False, False, False,  True,  True, False, False,\n",
              "         False,  True, False, False, False, False, False])),\n",
              " (array([1225,  836, 3305, 3304], dtype=int16),\n",
              "  array([False, False, False, False,  True,  True, False, False, False,\n",
              "         False, False, False, False, False, False, False, False, False,\n",
              "         False, False, False,  True, False, False, False, False, False,\n",
              "         False, False, False, False, False,  True, False]))]"
            ]
          },
          "metadata": {},
          "execution_count": 736
        }
      ]
    },
    {
      "cell_type": "markdown",
      "source": [
        "### Функции, отвечающие за ошибки"
      ],
      "metadata": {
        "id": "g3FEHQ1mNBv1"
      }
    },
    {
      "cell_type": "markdown",
      "source": [
        "Теперь определим функцию, которая будет вычислять ошибку подмножества, и функцию, которая будет вычислять ошибку разбиения"
      ],
      "metadata": {
        "id": "Y3j4hTIIlizu"
      }
    },
    {
      "cell_type": "code",
      "source": [
        "def get_error_subset(subset, ideal):\n",
        "  '''Вычисляет ошибку подмножества: Возвращает абсолютную разницу между суммой подмножества и идеальной суммой'''\n",
        "  return np.abs(subset.sum()-ideal)"
      ],
      "metadata": {
        "id": "MEljnKUhe7YX"
      },
      "execution_count": null,
      "outputs": []
    },
    {
      "cell_type": "code",
      "source": [
        "def get_error_partition(real_partition, ideal):\n",
        "  '''Вычисляет ошибку разбиения: Возвращает сумму евклидовых расстояний между суммой подмножеств и идеальной суммой'''\n",
        "  return np.sqrt(np.sum(np.array(list(map(lambda real_part: ((real_part.sum()-ideal)**2), real_partition)))))"
      ],
      "metadata": {
        "id": "v_D9Qnp8nBrC"
      },
      "execution_count": null,
      "outputs": []
    },
    {
      "cell_type": "code",
      "source": [
        "get_error_partition(real_partition, ideal)"
      ],
      "metadata": {
        "colab": {
          "base_uri": "https://localhost:8080/"
        },
        "id": "7fBajuxWoyMN",
        "outputId": "84676864-4fa9-45fc-8972-670d1e593ab1"
      },
      "execution_count": null,
      "outputs": [
        {
          "output_type": "execute_result",
          "data": {
            "text/plain": [
              "16940.009684176686"
            ]
          },
          "metadata": {},
          "execution_count": 781
        }
      ]
    },
    {
      "cell_type": "markdown",
      "source": [
        "### Функции, упордчивающие подмножества"
      ],
      "metadata": {
        "id": "PEvP27GBNLb2"
      }
    },
    {
      "cell_type": "markdown",
      "source": [
        "Опишем функцию, которая будет упорядочивать подмножества по ошибкам:"
      ],
      "metadata": {
        "id": "F6vpyQ5GoJZK"
      }
    },
    {
      "cell_type": "code",
      "source": [
        "def sort_subsets_in_partition(union_population, ideal):\n",
        "  '''Данная функция упорядочивает подмножества в разбиении по ошибке'''\n",
        "  union_population.sort(key=lambda views: get_error_subset(views[0], ideal))\n",
        "  return union_population"
      ],
      "metadata": {
        "id": "93-KXcjsoI2e"
      },
      "execution_count": null,
      "outputs": []
    },
    {
      "cell_type": "code",
      "source": [
        "union_partition = sort_subsets_in_partition(union_population[0], ideal)\n",
        "union_partition"
      ],
      "metadata": {
        "colab": {
          "base_uri": "https://localhost:8080/"
        },
        "id": "nDMhmVqBUSdl",
        "outputId": "b220073e-858e-4532-a9fa-6624bd8f8d98"
      },
      "execution_count": null,
      "outputs": [
        {
          "output_type": "execute_result",
          "data": {
            "text/plain": [
              "[(array([1225,  836, 3305, 3304], dtype=int16),\n",
              "  array([False, False, False, False,  True,  True, False, False, False,\n",
              "         False, False, False, False, False, False, False, False, False,\n",
              "         False, False, False,  True, False, False, False, False, False,\n",
              "         False, False, False, False, False,  True, False])),\n",
              " (array([2156, 5932], dtype=int16),\n",
              "  array([False, False, False, False, False, False, False, False, False,\n",
              "         False, False, False, False, False, False, False, False, False,\n",
              "         False, False, False, False,  True, False, False, False, False,\n",
              "         False, False, False,  True, False, False, False])),\n",
              " (array([4635, 3380], dtype=int16),\n",
              "  array([False, False, False, False, False, False, False, False,  True,\n",
              "         False, False,  True, False, False, False, False, False, False,\n",
              "         False, False, False, False, False, False, False, False, False,\n",
              "         False, False, False, False, False, False, False])),\n",
              " (array([3380, 3832, 3176, 2787], dtype=int16),\n",
              "  array([ True, False, False, False, False, False, False, False, False,\n",
              "         False, False, False, False,  True,  True, False, False, False,\n",
              "         False, False, False, False, False, False, False, False,  True,\n",
              "         False, False, False, False, False, False, False])),\n",
              " (array([1363, 3980], dtype=int16),\n",
              "  array([False, False, False, False, False, False, False, False, False,\n",
              "         False, False, False, False, False, False, False, False, False,\n",
              "         False,  True, False, False, False, False, False,  True, False,\n",
              "         False, False, False, False, False, False, False])),\n",
              " (array([2060, 2588], dtype=int16),\n",
              "  array([False, False, False,  True, False, False, False, False, False,\n",
              "         False,  True, False, False, False, False, False, False, False,\n",
              "         False, False, False, False, False, False, False, False, False,\n",
              "         False, False, False, False, False, False, False])),\n",
              " (array([1824, 2705], dtype=int16),\n",
              "  array([False,  True, False, False, False, False, False,  True, False,\n",
              "         False, False, False, False, False, False, False, False, False,\n",
              "         False, False, False, False, False, False, False, False, False,\n",
              "         False, False, False, False, False, False, False])),\n",
              " (array([1952, 2316], dtype=int16),\n",
              "  array([False, False, False, False, False, False, False, False, False,\n",
              "         False, False, False,  True, False, False,  True, False, False,\n",
              "         False, False, False, False, False, False, False, False, False,\n",
              "         False, False, False, False, False, False, False])),\n",
              " (array([1481, 2479, 3519, 3305, 3049, 4068], dtype=int16),\n",
              "  array([False, False,  True, False, False, False, False, False, False,\n",
              "         False, False, False, False, False, False, False,  True, False,\n",
              "          True, False, False, False, False,  True,  True, False, False,\n",
              "         False,  True, False, False, False, False, False])),\n",
              " (array([1363,  648, 3433, 1824, 4635, 2992,  528, 4107], dtype=int16),\n",
              "  array([False, False, False, False, False, False,  True, False, False,\n",
              "          True, False, False, False, False, False, False, False,  True,\n",
              "         False, False,  True, False, False, False, False, False, False,\n",
              "          True, False,  True, False,  True, False,  True]))]"
            ]
          },
          "metadata": {},
          "execution_count": 741
        }
      ]
    },
    {
      "cell_type": "markdown",
      "source": [
        "Проверка:"
      ],
      "metadata": {
        "id": "t_3jLwe_26WO"
      }
    },
    {
      "cell_type": "code",
      "source": [
        "list(map(lambda union_subset: get_error_subset(union_subset[0], ideal), union_partition))"
      ],
      "metadata": {
        "colab": {
          "base_uri": "https://localhost:8080/"
        },
        "id": "myR7wxVnOJmK",
        "outputId": "9d49a4a7-010a-4b9e-a6f3-fe7c74c59671"
      },
      "execution_count": null,
      "outputs": [
        {
          "output_type": "execute_result",
          "data": {
            "text/plain": [
              "[746.7000000000007,\n",
              " 1328.7000000000007,\n",
              " 1401.7000000000007,\n",
              " 3758.2999999999993,\n",
              " 4073.7000000000007,\n",
              " 4768.700000000001,\n",
              " 4887.700000000001,\n",
              " 5148.700000000001,\n",
              " 8484.3,\n",
              " 10113.3]"
            ]
          },
          "metadata": {},
          "execution_count": 742
        }
      ]
    },
    {
      "cell_type": "markdown",
      "source": [
        "Также определим функцию, которая будет упорядочивать подмножества во всех разбиениях, то есть во всей популяции"
      ],
      "metadata": {
        "id": "oUZUAL3UVQyR"
      }
    },
    {
      "cell_type": "code",
      "source": [
        "def sort_subsets_in_population(union_population, ideal, Q):\n",
        "  '''Данная функция сортирует подмножества во всей популяции (оба представления)\n",
        "  Возвращает оба представления популяции, но упорядоченные'''\n",
        "  new_union_population = []\n",
        "  for i in range(Q):\n",
        "    new_union_population.append(sort_subsets_in_partition(union_population[i], ideal))\n",
        "\n",
        "  # Разбиваем общее представление популяции на булевую и на реальную\n",
        "  real_population = []\n",
        "  bool_population = []\n",
        "  for union_partition in union_population:\n",
        "    real_partition = []\n",
        "    bool_partition = []\n",
        "    for union_subset in union_partition:\n",
        "      real_partition.append(union_subset[0])\n",
        "      bool_partition.append(union_subset[1])\n",
        "    real_population.append(real_partition)\n",
        "    bool_population.append(bool_partition)\n",
        "  return (real_population, bool_population)"
      ],
      "metadata": {
        "id": "hrunICKuVcze"
      },
      "execution_count": null,
      "outputs": []
    },
    {
      "cell_type": "code",
      "source": [
        "real_population, bool_population = sort_subsets_in_population(union_population, ideal, Q)"
      ],
      "metadata": {
        "id": "qvs5NdhX7ZCE"
      },
      "execution_count": null,
      "outputs": []
    },
    {
      "cell_type": "markdown",
      "source": [
        "Проверка. Убеждаемся, что два представления соответствуют друг другу:"
      ],
      "metadata": {
        "id": "m2R4g00yTWYM"
      }
    },
    {
      "cell_type": "code",
      "source": [
        "real_population[0]"
      ],
      "metadata": {
        "colab": {
          "base_uri": "https://localhost:8080/"
        },
        "id": "SjfjaxLr2ucd",
        "outputId": "3c9c56c2-1cc0-47d0-afd1-efa76580072e"
      },
      "execution_count": null,
      "outputs": [
        {
          "output_type": "execute_result",
          "data": {
            "text/plain": [
              "[array([1225,  836, 3305, 3304], dtype=int16),\n",
              " array([2156, 5932], dtype=int16),\n",
              " array([4635, 3380], dtype=int16),\n",
              " array([3380, 3832, 3176, 2787], dtype=int16),\n",
              " array([1363, 3980], dtype=int16),\n",
              " array([2060, 2588], dtype=int16),\n",
              " array([1824, 2705], dtype=int16),\n",
              " array([1952, 2316], dtype=int16),\n",
              " array([1481, 2479, 3519, 3305, 3049, 4068], dtype=int16),\n",
              " array([1363,  648, 3433, 1824, 4635, 2992,  528, 4107], dtype=int16)]"
            ]
          },
          "metadata": {},
          "execution_count": 745
        }
      ]
    },
    {
      "cell_type": "code",
      "source": [
        "bool_population[0]"
      ],
      "metadata": {
        "colab": {
          "base_uri": "https://localhost:8080/"
        },
        "id": "l8hlijPI2-Yj",
        "outputId": "7cef4ffa-0091-439e-fa94-a5dff12cb33f"
      },
      "execution_count": null,
      "outputs": [
        {
          "output_type": "execute_result",
          "data": {
            "text/plain": [
              "[array([False, False, False, False,  True,  True, False, False, False,\n",
              "        False, False, False, False, False, False, False, False, False,\n",
              "        False, False, False,  True, False, False, False, False, False,\n",
              "        False, False, False, False, False,  True, False]),\n",
              " array([False, False, False, False, False, False, False, False, False,\n",
              "        False, False, False, False, False, False, False, False, False,\n",
              "        False, False, False, False,  True, False, False, False, False,\n",
              "        False, False, False,  True, False, False, False]),\n",
              " array([False, False, False, False, False, False, False, False,  True,\n",
              "        False, False,  True, False, False, False, False, False, False,\n",
              "        False, False, False, False, False, False, False, False, False,\n",
              "        False, False, False, False, False, False, False]),\n",
              " array([ True, False, False, False, False, False, False, False, False,\n",
              "        False, False, False, False,  True,  True, False, False, False,\n",
              "        False, False, False, False, False, False, False, False,  True,\n",
              "        False, False, False, False, False, False, False]),\n",
              " array([False, False, False, False, False, False, False, False, False,\n",
              "        False, False, False, False, False, False, False, False, False,\n",
              "        False,  True, False, False, False, False, False,  True, False,\n",
              "        False, False, False, False, False, False, False]),\n",
              " array([False, False, False,  True, False, False, False, False, False,\n",
              "        False,  True, False, False, False, False, False, False, False,\n",
              "        False, False, False, False, False, False, False, False, False,\n",
              "        False, False, False, False, False, False, False]),\n",
              " array([False,  True, False, False, False, False, False,  True, False,\n",
              "        False, False, False, False, False, False, False, False, False,\n",
              "        False, False, False, False, False, False, False, False, False,\n",
              "        False, False, False, False, False, False, False]),\n",
              " array([False, False, False, False, False, False, False, False, False,\n",
              "        False, False, False,  True, False, False,  True, False, False,\n",
              "        False, False, False, False, False, False, False, False, False,\n",
              "        False, False, False, False, False, False, False]),\n",
              " array([False, False,  True, False, False, False, False, False, False,\n",
              "        False, False, False, False, False, False, False,  True, False,\n",
              "         True, False, False, False, False,  True,  True, False, False,\n",
              "        False,  True, False, False, False, False, False]),\n",
              " array([False, False, False, False, False, False,  True, False, False,\n",
              "         True, False, False, False, False, False, False, False,  True,\n",
              "        False, False,  True, False, False, False, False, False, False,\n",
              "         True, False,  True, False,  True, False,  True])]"
            ]
          },
          "metadata": {},
          "execution_count": 746
        }
      ]
    },
    {
      "cell_type": "markdown",
      "source": [
        "Проверка. Убеждаеся, что подмножества в популяции упорядочились"
      ],
      "metadata": {
        "id": "8KdPaK713gsc"
      }
    },
    {
      "cell_type": "code",
      "source": [
        "list(map(lambda subset: get_error_subset(subset, ideal), real_population[0]))"
      ],
      "metadata": {
        "colab": {
          "base_uri": "https://localhost:8080/"
        },
        "id": "meX9T8tDQvBr",
        "outputId": "7e520afb-3e0a-4af0-999d-5a59eb52d980"
      },
      "execution_count": null,
      "outputs": [
        {
          "output_type": "execute_result",
          "data": {
            "text/plain": [
              "[746.7000000000007,\n",
              " 1328.7000000000007,\n",
              " 1401.7000000000007,\n",
              " 3758.2999999999993,\n",
              " 4073.7000000000007,\n",
              " 4768.700000000001,\n",
              " 4887.700000000001,\n",
              " 5148.700000000001,\n",
              " 8484.3,\n",
              " 10113.3]"
            ]
          },
          "metadata": {},
          "execution_count": 747
        }
      ]
    },
    {
      "cell_type": "markdown",
      "source": [
        "### Функция приспособленности"
      ],
      "metadata": {
        "id": "zEzml73dtZnB"
      }
    },
    {
      "cell_type": "markdown",
      "source": [
        "Теперь определим функцию приспособленности:"
      ],
      "metadata": {
        "id": "7WfyM2lpwrq4"
      }
    },
    {
      "cell_type": "code",
      "source": [
        "def fitness(real_population, bool_population, ideal):\n",
        "  '''Данная функция вычисляет приспособленность каждого индивида в Популяции'''\n",
        "  errors_partitions = np.array(list(map(lambda real_partition: get_error_partition(real_partition, ideal), real_population))) # Ошибки разбиения\n",
        "  LOW = min(errors_partitions) # Эта штука не нужна (я не правильно понял текст, там речь идёт про то, что теперь диапазон приспособленности от 1 до HIGH - LOW + 1)\n",
        "  HIGH = max(errors_partitions)\n",
        "  data = pd.DataFrame({\n",
        "    'Особь реальная' : real_population,\n",
        "    'Особь булевая': bool_population,\n",
        "    'Приспособленность': HIGH + 1 - errors_partitions\n",
        "  })\n",
        "  data = data.sort_values(by='Приспособленность', ascending=False) # Упростить: сделать сортировку сразу же при создании df\n",
        "  data.index = np.arange(0,len(data))\n",
        "  return data"
      ],
      "metadata": {
        "id": "HYXNXFlBwrVq"
      },
      "execution_count": null,
      "outputs": []
    },
    {
      "cell_type": "code",
      "source": [
        "data = fitness(real_population, bool_population, ideal)\n",
        "data"
      ],
      "metadata": {
        "colab": {
          "base_uri": "https://localhost:8080/",
          "height": 424
        },
        "id": "oUywO0-x9PGW",
        "outputId": "7aae63fe-1503-4af4-9bc5-69f3b248a1e5"
      },
      "execution_count": null,
      "outputs": [
        {
          "output_type": "execute_result",
          "data": {
            "text/plain": [
              "                                       Особь реальная  \\\n",
              "0   [[2588, 3519, 3980], [3380, 1824, 648, 2479], ...   \n",
              "1   [[1363, 3433, 4635], [836, 3380, 1824, 3305], ...   \n",
              "2   [[1481, 4635, 2479, 528], [1225, 3176, 2316, 3...   \n",
              "3   [[1363, 2156, 2992, 3304], [1952, 3832, 4068],...   \n",
              "4   [[3380, 2316, 3305], [2479, 1824, 3980, 528], ...   \n",
              "..                                                ...   \n",
              "95  [[1952, 3519, 3305, 4068], [3380, 3433, 3049, ...   \n",
              "96  [[3380, 3176, 3980], [2316, 2479, 3049], [1225...   \n",
              "97  [[1824, 836, 2588, 4107], [2060, 3832, 3433], ...   \n",
              "98  [[2060, 3380, 4107], [1363, 2588, 1363, 3049],...   \n",
              "99  [[2588, 2156, 2787, 3304], [1824, 2060], [1363...   \n",
              "\n",
              "                                        Особь булевая  Приспособленность  \n",
              "0   [[False, False, False, False, False, False, Fa...       16559.773749  \n",
              "1   [[False, False, False, False, False, False, Tr...       15748.291967  \n",
              "2   [[False, False, True, False, False, False, Fal...       15723.783377  \n",
              "3   [[False, False, False, False, False, False, Fa...       15382.692277  \n",
              "4   [[False, False, False, False, False, False, Fa...       14983.595114  \n",
              "..                                                ...                ...  \n",
              "95  [[False, False, False, False, False, False, Fa...        1501.792654  \n",
              "96  [[True, False, False, False, False, False, Fal...        1081.234769  \n",
              "97  [[False, True, False, False, False, True, Fals...         736.155462  \n",
              "98  [[False, False, False, True, False, False, Fal...         109.286996  \n",
              "99  [[False, False, False, False, False, False, Fa...           1.000000  \n",
              "\n",
              "[100 rows x 3 columns]"
            ],
            "text/html": [
              "\n",
              "  <div id=\"df-725ee4e1-7b2a-48f6-8fae-331e9c06c1f3\" class=\"colab-df-container\">\n",
              "    <div>\n",
              "<style scoped>\n",
              "    .dataframe tbody tr th:only-of-type {\n",
              "        vertical-align: middle;\n",
              "    }\n",
              "\n",
              "    .dataframe tbody tr th {\n",
              "        vertical-align: top;\n",
              "    }\n",
              "\n",
              "    .dataframe thead th {\n",
              "        text-align: right;\n",
              "    }\n",
              "</style>\n",
              "<table border=\"1\" class=\"dataframe\">\n",
              "  <thead>\n",
              "    <tr style=\"text-align: right;\">\n",
              "      <th></th>\n",
              "      <th>Особь реальная</th>\n",
              "      <th>Особь булевая</th>\n",
              "      <th>Приспособленность</th>\n",
              "    </tr>\n",
              "  </thead>\n",
              "  <tbody>\n",
              "    <tr>\n",
              "      <th>0</th>\n",
              "      <td>[[2588, 3519, 3980], [3380, 1824, 648, 2479], ...</td>\n",
              "      <td>[[False, False, False, False, False, False, Fa...</td>\n",
              "      <td>16559.773749</td>\n",
              "    </tr>\n",
              "    <tr>\n",
              "      <th>1</th>\n",
              "      <td>[[1363, 3433, 4635], [836, 3380, 1824, 3305], ...</td>\n",
              "      <td>[[False, False, False, False, False, False, Tr...</td>\n",
              "      <td>15748.291967</td>\n",
              "    </tr>\n",
              "    <tr>\n",
              "      <th>2</th>\n",
              "      <td>[[1481, 4635, 2479, 528], [1225, 3176, 2316, 3...</td>\n",
              "      <td>[[False, False, True, False, False, False, Fal...</td>\n",
              "      <td>15723.783377</td>\n",
              "    </tr>\n",
              "    <tr>\n",
              "      <th>3</th>\n",
              "      <td>[[1363, 2156, 2992, 3304], [1952, 3832, 4068],...</td>\n",
              "      <td>[[False, False, False, False, False, False, Fa...</td>\n",
              "      <td>15382.692277</td>\n",
              "    </tr>\n",
              "    <tr>\n",
              "      <th>4</th>\n",
              "      <td>[[3380, 2316, 3305], [2479, 1824, 3980, 528], ...</td>\n",
              "      <td>[[False, False, False, False, False, False, Fa...</td>\n",
              "      <td>14983.595114</td>\n",
              "    </tr>\n",
              "    <tr>\n",
              "      <th>...</th>\n",
              "      <td>...</td>\n",
              "      <td>...</td>\n",
              "      <td>...</td>\n",
              "    </tr>\n",
              "    <tr>\n",
              "      <th>95</th>\n",
              "      <td>[[1952, 3519, 3305, 4068], [3380, 3433, 3049, ...</td>\n",
              "      <td>[[False, False, False, False, False, False, Fa...</td>\n",
              "      <td>1501.792654</td>\n",
              "    </tr>\n",
              "    <tr>\n",
              "      <th>96</th>\n",
              "      <td>[[3380, 3176, 3980], [2316, 2479, 3049], [1225...</td>\n",
              "      <td>[[True, False, False, False, False, False, Fal...</td>\n",
              "      <td>1081.234769</td>\n",
              "    </tr>\n",
              "    <tr>\n",
              "      <th>97</th>\n",
              "      <td>[[1824, 836, 2588, 4107], [2060, 3832, 3433], ...</td>\n",
              "      <td>[[False, True, False, False, False, True, Fals...</td>\n",
              "      <td>736.155462</td>\n",
              "    </tr>\n",
              "    <tr>\n",
              "      <th>98</th>\n",
              "      <td>[[2060, 3380, 4107], [1363, 2588, 1363, 3049],...</td>\n",
              "      <td>[[False, False, False, True, False, False, Fal...</td>\n",
              "      <td>109.286996</td>\n",
              "    </tr>\n",
              "    <tr>\n",
              "      <th>99</th>\n",
              "      <td>[[2588, 2156, 2787, 3304], [1824, 2060], [1363...</td>\n",
              "      <td>[[False, False, False, False, False, False, Fa...</td>\n",
              "      <td>1.000000</td>\n",
              "    </tr>\n",
              "  </tbody>\n",
              "</table>\n",
              "<p>100 rows × 3 columns</p>\n",
              "</div>\n",
              "    <div class=\"colab-df-buttons\">\n",
              "\n",
              "  <div class=\"colab-df-container\">\n",
              "    <button class=\"colab-df-convert\" onclick=\"convertToInteractive('df-725ee4e1-7b2a-48f6-8fae-331e9c06c1f3')\"\n",
              "            title=\"Convert this dataframe to an interactive table.\"\n",
              "            style=\"display:none;\">\n",
              "\n",
              "  <svg xmlns=\"http://www.w3.org/2000/svg\" height=\"24px\" viewBox=\"0 -960 960 960\">\n",
              "    <path d=\"M120-120v-720h720v720H120Zm60-500h600v-160H180v160Zm220 220h160v-160H400v160Zm0 220h160v-160H400v160ZM180-400h160v-160H180v160Zm440 0h160v-160H620v160ZM180-180h160v-160H180v160Zm440 0h160v-160H620v160Z\"/>\n",
              "  </svg>\n",
              "    </button>\n",
              "\n",
              "  <style>\n",
              "    .colab-df-container {\n",
              "      display:flex;\n",
              "      gap: 12px;\n",
              "    }\n",
              "\n",
              "    .colab-df-convert {\n",
              "      background-color: #E8F0FE;\n",
              "      border: none;\n",
              "      border-radius: 50%;\n",
              "      cursor: pointer;\n",
              "      display: none;\n",
              "      fill: #1967D2;\n",
              "      height: 32px;\n",
              "      padding: 0 0 0 0;\n",
              "      width: 32px;\n",
              "    }\n",
              "\n",
              "    .colab-df-convert:hover {\n",
              "      background-color: #E2EBFA;\n",
              "      box-shadow: 0px 1px 2px rgba(60, 64, 67, 0.3), 0px 1px 3px 1px rgba(60, 64, 67, 0.15);\n",
              "      fill: #174EA6;\n",
              "    }\n",
              "\n",
              "    .colab-df-buttons div {\n",
              "      margin-bottom: 4px;\n",
              "    }\n",
              "\n",
              "    [theme=dark] .colab-df-convert {\n",
              "      background-color: #3B4455;\n",
              "      fill: #D2E3FC;\n",
              "    }\n",
              "\n",
              "    [theme=dark] .colab-df-convert:hover {\n",
              "      background-color: #434B5C;\n",
              "      box-shadow: 0px 1px 3px 1px rgba(0, 0, 0, 0.15);\n",
              "      filter: drop-shadow(0px 1px 2px rgba(0, 0, 0, 0.3));\n",
              "      fill: #FFFFFF;\n",
              "    }\n",
              "  </style>\n",
              "\n",
              "    <script>\n",
              "      const buttonEl =\n",
              "        document.querySelector('#df-725ee4e1-7b2a-48f6-8fae-331e9c06c1f3 button.colab-df-convert');\n",
              "      buttonEl.style.display =\n",
              "        google.colab.kernel.accessAllowed ? 'block' : 'none';\n",
              "\n",
              "      async function convertToInteractive(key) {\n",
              "        const element = document.querySelector('#df-725ee4e1-7b2a-48f6-8fae-331e9c06c1f3');\n",
              "        const dataTable =\n",
              "          await google.colab.kernel.invokeFunction('convertToInteractive',\n",
              "                                                    [key], {});\n",
              "        if (!dataTable) return;\n",
              "\n",
              "        const docLinkHtml = 'Like what you see? Visit the ' +\n",
              "          '<a target=\"_blank\" href=https://colab.research.google.com/notebooks/data_table.ipynb>data table notebook</a>'\n",
              "          + ' to learn more about interactive tables.';\n",
              "        element.innerHTML = '';\n",
              "        dataTable['output_type'] = 'display_data';\n",
              "        await google.colab.output.renderOutput(dataTable, element);\n",
              "        const docLink = document.createElement('div');\n",
              "        docLink.innerHTML = docLinkHtml;\n",
              "        element.appendChild(docLink);\n",
              "      }\n",
              "    </script>\n",
              "  </div>\n",
              "\n",
              "\n",
              "<div id=\"df-fe1fa5df-7ec9-4da1-aacd-13d1595a46da\">\n",
              "  <button class=\"colab-df-quickchart\" onclick=\"quickchart('df-fe1fa5df-7ec9-4da1-aacd-13d1595a46da')\"\n",
              "            title=\"Suggest charts.\"\n",
              "            style=\"display:none;\">\n",
              "\n",
              "<svg xmlns=\"http://www.w3.org/2000/svg\" height=\"24px\"viewBox=\"0 0 24 24\"\n",
              "     width=\"24px\">\n",
              "    <g>\n",
              "        <path d=\"M19 3H5c-1.1 0-2 .9-2 2v14c0 1.1.9 2 2 2h14c1.1 0 2-.9 2-2V5c0-1.1-.9-2-2-2zM9 17H7v-7h2v7zm4 0h-2V7h2v10zm4 0h-2v-4h2v4z\"/>\n",
              "    </g>\n",
              "</svg>\n",
              "  </button>\n",
              "\n",
              "<style>\n",
              "  .colab-df-quickchart {\n",
              "      --bg-color: #E8F0FE;\n",
              "      --fill-color: #1967D2;\n",
              "      --hover-bg-color: #E2EBFA;\n",
              "      --hover-fill-color: #174EA6;\n",
              "      --disabled-fill-color: #AAA;\n",
              "      --disabled-bg-color: #DDD;\n",
              "  }\n",
              "\n",
              "  [theme=dark] .colab-df-quickchart {\n",
              "      --bg-color: #3B4455;\n",
              "      --fill-color: #D2E3FC;\n",
              "      --hover-bg-color: #434B5C;\n",
              "      --hover-fill-color: #FFFFFF;\n",
              "      --disabled-bg-color: #3B4455;\n",
              "      --disabled-fill-color: #666;\n",
              "  }\n",
              "\n",
              "  .colab-df-quickchart {\n",
              "    background-color: var(--bg-color);\n",
              "    border: none;\n",
              "    border-radius: 50%;\n",
              "    cursor: pointer;\n",
              "    display: none;\n",
              "    fill: var(--fill-color);\n",
              "    height: 32px;\n",
              "    padding: 0;\n",
              "    width: 32px;\n",
              "  }\n",
              "\n",
              "  .colab-df-quickchart:hover {\n",
              "    background-color: var(--hover-bg-color);\n",
              "    box-shadow: 0 1px 2px rgba(60, 64, 67, 0.3), 0 1px 3px 1px rgba(60, 64, 67, 0.15);\n",
              "    fill: var(--button-hover-fill-color);\n",
              "  }\n",
              "\n",
              "  .colab-df-quickchart-complete:disabled,\n",
              "  .colab-df-quickchart-complete:disabled:hover {\n",
              "    background-color: var(--disabled-bg-color);\n",
              "    fill: var(--disabled-fill-color);\n",
              "    box-shadow: none;\n",
              "  }\n",
              "\n",
              "  .colab-df-spinner {\n",
              "    border: 2px solid var(--fill-color);\n",
              "    border-color: transparent;\n",
              "    border-bottom-color: var(--fill-color);\n",
              "    animation:\n",
              "      spin 1s steps(1) infinite;\n",
              "  }\n",
              "\n",
              "  @keyframes spin {\n",
              "    0% {\n",
              "      border-color: transparent;\n",
              "      border-bottom-color: var(--fill-color);\n",
              "      border-left-color: var(--fill-color);\n",
              "    }\n",
              "    20% {\n",
              "      border-color: transparent;\n",
              "      border-left-color: var(--fill-color);\n",
              "      border-top-color: var(--fill-color);\n",
              "    }\n",
              "    30% {\n",
              "      border-color: transparent;\n",
              "      border-left-color: var(--fill-color);\n",
              "      border-top-color: var(--fill-color);\n",
              "      border-right-color: var(--fill-color);\n",
              "    }\n",
              "    40% {\n",
              "      border-color: transparent;\n",
              "      border-right-color: var(--fill-color);\n",
              "      border-top-color: var(--fill-color);\n",
              "    }\n",
              "    60% {\n",
              "      border-color: transparent;\n",
              "      border-right-color: var(--fill-color);\n",
              "    }\n",
              "    80% {\n",
              "      border-color: transparent;\n",
              "      border-right-color: var(--fill-color);\n",
              "      border-bottom-color: var(--fill-color);\n",
              "    }\n",
              "    90% {\n",
              "      border-color: transparent;\n",
              "      border-bottom-color: var(--fill-color);\n",
              "    }\n",
              "  }\n",
              "</style>\n",
              "\n",
              "  <script>\n",
              "    async function quickchart(key) {\n",
              "      const quickchartButtonEl =\n",
              "        document.querySelector('#' + key + ' button');\n",
              "      quickchartButtonEl.disabled = true;  // To prevent multiple clicks.\n",
              "      quickchartButtonEl.classList.add('colab-df-spinner');\n",
              "      try {\n",
              "        const charts = await google.colab.kernel.invokeFunction(\n",
              "            'suggestCharts', [key], {});\n",
              "      } catch (error) {\n",
              "        console.error('Error during call to suggestCharts:', error);\n",
              "      }\n",
              "      quickchartButtonEl.classList.remove('colab-df-spinner');\n",
              "      quickchartButtonEl.classList.add('colab-df-quickchart-complete');\n",
              "    }\n",
              "    (() => {\n",
              "      let quickchartButtonEl =\n",
              "        document.querySelector('#df-fe1fa5df-7ec9-4da1-aacd-13d1595a46da button');\n",
              "      quickchartButtonEl.style.display =\n",
              "        google.colab.kernel.accessAllowed ? 'block' : 'none';\n",
              "    })();\n",
              "  </script>\n",
              "</div>\n",
              "    </div>\n",
              "  </div>\n"
            ]
          },
          "metadata": {},
          "execution_count": 749
        }
      ]
    },
    {
      "cell_type": "markdown",
      "source": [
        "### Функция отбора"
      ],
      "metadata": {
        "id": "CtMCzcrX5UTK"
      }
    },
    {
      "cell_type": "markdown",
      "source": [
        "Теперь опишем функцию, которая отвечает за отбор:\n",
        "\n",
        "1.   7% наиболее приспособленных особей автоматически доживает до следующего поколения - элитарность;\n",
        "2.   индивиды отбираются для родительства с вероятностью, равной их относительной пригодности (fitness) в популяции; мы используем стандартное взвешенное колесо рулетки."
      ],
      "metadata": {
        "id": "ML57bRHgER8E"
      }
    },
    {
      "cell_type": "code",
      "source": [
        "def selection(data, proc=0.07, Q = Q):\n",
        "  '''\n",
        "     data = DataFrame со столбцами особь + пригодность;\n",
        "     proc = процент особей автоматически выживающих, и переходящих в следующее поколение;\n",
        "     Q = количество особей\n",
        "     Возвращает: df с особями, которые автматически доживают до следующего поколения и df родителей\n",
        "  '''\n",
        "\n",
        "  # 1. Отбор\n",
        "  # 1.1 Элитарные особи не участвуют в отборе и автоматически проходят его\n",
        "  q_survival = np.int(np.around(Q*0.07)) # Количесвто элитарных особей\n",
        "  selected = data[0:q_survival:1] # Автоматически проходят отбор\n",
        "  for_selected = data[q_survival::1] # Таблица с участниками отбора\n",
        "\n",
        "  # 1.2 Стадия отбора для остальных\n",
        "  # 1.2.1 Подсчёт характеристик для рулетки\n",
        "  for_selected['Вероятность'] = for_selected['Приспособленность'].values/for_selected['Приспособленность'].sum() # Вероятности\n",
        "  for_selected['Нижняя граница'] = np.array([for_selected['Вероятность'][0:i].sum() for i in range(0,len(for_selected))]) # Нижняя граница\n",
        "  for_selected['Верхняя граница'] = np.array([for_selected['Вероятность'][0:i].sum() for i in range(1,len(for_selected)+1)]) # Верхняя граница\n",
        "\n",
        "  # 1.2.2 Рулетка пошла\n",
        "  while len(selected)<67:\n",
        "    r = np.random.uniform(0,1) # Рандомное число\n",
        "    temp_individ = for_selected[(for_selected['Нижняя граница']<r) & (for_selected['Верхняя граница']>r)][['Особь реальная', 'Особь булевая', 'Приспособленность']]\n",
        "    for_selected = for_selected[(for_selected['Нижняя граница']<r) & (for_selected['Верхняя граница']<r) | (for_selected['Нижняя граница']>r) & (for_selected['Верхняя граница']>r)]\n",
        "    selected = selected.append(temp_individ) # Добавляем особь, которая выиграла в рулетке, в датафрейм отобранных особей\n",
        "\n",
        "  selected.index = np.arange(67) # Всего 67 отобрано должно быть (мы здесь упорядочиваем индексы, так как они нужны именно в этом виде)\n",
        "\n",
        "  return selected"
      ],
      "metadata": {
        "id": "6hSnZsnSGccl"
      },
      "execution_count": null,
      "outputs": []
    },
    {
      "cell_type": "code",
      "source": [
        "select_individs = selection(data)"
      ],
      "metadata": {
        "id": "ITH72V1fU_qY",
        "colab": {
          "base_uri": "https://localhost:8080/"
        },
        "outputId": "01009840-eba9-481f-ffc2-0795379e1300"
      },
      "execution_count": null,
      "outputs": [
        {
          "output_type": "stream",
          "name": "stderr",
          "text": [
            "<ipython-input-750-17180d125845>:11: DeprecationWarning: `np.int` is a deprecated alias for the builtin `int`. To silence this warning, use `int` by itself. Doing this will not modify any behavior and is safe. When replacing `np.int`, you may wish to use e.g. `np.int64` or `np.int32` to specify the precision. If you wish to review your current use, check the release note link for additional information.\n",
            "Deprecated in NumPy 1.20; for more details and guidance: https://numpy.org/devdocs/release/1.20.0-notes.html#deprecations\n",
            "  q_survival = np.int(np.around(Q*0.07)) # Количесвто элитарных особей\n",
            "<ipython-input-750-17180d125845>:17: SettingWithCopyWarning: \n",
            "A value is trying to be set on a copy of a slice from a DataFrame.\n",
            "Try using .loc[row_indexer,col_indexer] = value instead\n",
            "\n",
            "See the caveats in the documentation: https://pandas.pydata.org/pandas-docs/stable/user_guide/indexing.html#returning-a-view-versus-a-copy\n",
            "  for_selected['Вероятность'] = for_selected['Приспособленность'].values/for_selected['Приспособленность'].sum() # Вероятности\n",
            "<ipython-input-750-17180d125845>:18: SettingWithCopyWarning: \n",
            "A value is trying to be set on a copy of a slice from a DataFrame.\n",
            "Try using .loc[row_indexer,col_indexer] = value instead\n",
            "\n",
            "See the caveats in the documentation: https://pandas.pydata.org/pandas-docs/stable/user_guide/indexing.html#returning-a-view-versus-a-copy\n",
            "  for_selected['Нижняя граница'] = np.array([for_selected['Вероятность'][0:i].sum() for i in range(0,len(for_selected))]) # Нижняя граница\n",
            "<ipython-input-750-17180d125845>:19: SettingWithCopyWarning: \n",
            "A value is trying to be set on a copy of a slice from a DataFrame.\n",
            "Try using .loc[row_indexer,col_indexer] = value instead\n",
            "\n",
            "See the caveats in the documentation: https://pandas.pydata.org/pandas-docs/stable/user_guide/indexing.html#returning-a-view-versus-a-copy\n",
            "  for_selected['Верхняя граница'] = np.array([for_selected['Вероятность'][0:i].sum() for i in range(1,len(for_selected)+1)]) # Верхняя граница\n",
            "<ipython-input-750-17180d125845>:26: FutureWarning: The frame.append method is deprecated and will be removed from pandas in a future version. Use pandas.concat instead.\n",
            "  selected = selected.append(temp_individ) # Добавляем особь, которая выиграла в рулетке, в датафрейм отобранных особей\n",
            "<ipython-input-750-17180d125845>:26: FutureWarning: The frame.append method is deprecated and will be removed from pandas in a future version. Use pandas.concat instead.\n",
            "  selected = selected.append(temp_individ) # Добавляем особь, которая выиграла в рулетке, в датафрейм отобранных особей\n",
            "<ipython-input-750-17180d125845>:26: FutureWarning: The frame.append method is deprecated and will be removed from pandas in a future version. Use pandas.concat instead.\n",
            "  selected = selected.append(temp_individ) # Добавляем особь, которая выиграла в рулетке, в датафрейм отобранных особей\n",
            "<ipython-input-750-17180d125845>:26: FutureWarning: The frame.append method is deprecated and will be removed from pandas in a future version. Use pandas.concat instead.\n",
            "  selected = selected.append(temp_individ) # Добавляем особь, которая выиграла в рулетке, в датафрейм отобранных особей\n",
            "<ipython-input-750-17180d125845>:26: FutureWarning: The frame.append method is deprecated and will be removed from pandas in a future version. Use pandas.concat instead.\n",
            "  selected = selected.append(temp_individ) # Добавляем особь, которая выиграла в рулетке, в датафрейм отобранных особей\n",
            "<ipython-input-750-17180d125845>:26: FutureWarning: The frame.append method is deprecated and will be removed from pandas in a future version. Use pandas.concat instead.\n",
            "  selected = selected.append(temp_individ) # Добавляем особь, которая выиграла в рулетке, в датафрейм отобранных особей\n",
            "<ipython-input-750-17180d125845>:26: FutureWarning: The frame.append method is deprecated and will be removed from pandas in a future version. Use pandas.concat instead.\n",
            "  selected = selected.append(temp_individ) # Добавляем особь, которая выиграла в рулетке, в датафрейм отобранных особей\n",
            "<ipython-input-750-17180d125845>:26: FutureWarning: The frame.append method is deprecated and will be removed from pandas in a future version. Use pandas.concat instead.\n",
            "  selected = selected.append(temp_individ) # Добавляем особь, которая выиграла в рулетке, в датафрейм отобранных особей\n",
            "<ipython-input-750-17180d125845>:26: FutureWarning: The frame.append method is deprecated and will be removed from pandas in a future version. Use pandas.concat instead.\n",
            "  selected = selected.append(temp_individ) # Добавляем особь, которая выиграла в рулетке, в датафрейм отобранных особей\n",
            "<ipython-input-750-17180d125845>:26: FutureWarning: The frame.append method is deprecated and will be removed from pandas in a future version. Use pandas.concat instead.\n",
            "  selected = selected.append(temp_individ) # Добавляем особь, которая выиграла в рулетке, в датафрейм отобранных особей\n",
            "<ipython-input-750-17180d125845>:26: FutureWarning: The frame.append method is deprecated and will be removed from pandas in a future version. Use pandas.concat instead.\n",
            "  selected = selected.append(temp_individ) # Добавляем особь, которая выиграла в рулетке, в датафрейм отобранных особей\n",
            "<ipython-input-750-17180d125845>:26: FutureWarning: The frame.append method is deprecated and will be removed from pandas in a future version. Use pandas.concat instead.\n",
            "  selected = selected.append(temp_individ) # Добавляем особь, которая выиграла в рулетке, в датафрейм отобранных особей\n",
            "<ipython-input-750-17180d125845>:26: FutureWarning: The frame.append method is deprecated and will be removed from pandas in a future version. Use pandas.concat instead.\n",
            "  selected = selected.append(temp_individ) # Добавляем особь, которая выиграла в рулетке, в датафрейм отобранных особей\n",
            "<ipython-input-750-17180d125845>:26: FutureWarning: The frame.append method is deprecated and will be removed from pandas in a future version. Use pandas.concat instead.\n",
            "  selected = selected.append(temp_individ) # Добавляем особь, которая выиграла в рулетке, в датафрейм отобранных особей\n",
            "<ipython-input-750-17180d125845>:26: FutureWarning: The frame.append method is deprecated and will be removed from pandas in a future version. Use pandas.concat instead.\n",
            "  selected = selected.append(temp_individ) # Добавляем особь, которая выиграла в рулетке, в датафрейм отобранных особей\n",
            "<ipython-input-750-17180d125845>:26: FutureWarning: The frame.append method is deprecated and will be removed from pandas in a future version. Use pandas.concat instead.\n",
            "  selected = selected.append(temp_individ) # Добавляем особь, которая выиграла в рулетке, в датафрейм отобранных особей\n",
            "<ipython-input-750-17180d125845>:26: FutureWarning: The frame.append method is deprecated and will be removed from pandas in a future version. Use pandas.concat instead.\n",
            "  selected = selected.append(temp_individ) # Добавляем особь, которая выиграла в рулетке, в датафрейм отобранных особей\n",
            "<ipython-input-750-17180d125845>:26: FutureWarning: The frame.append method is deprecated and will be removed from pandas in a future version. Use pandas.concat instead.\n",
            "  selected = selected.append(temp_individ) # Добавляем особь, которая выиграла в рулетке, в датафрейм отобранных особей\n",
            "<ipython-input-750-17180d125845>:26: FutureWarning: The frame.append method is deprecated and will be removed from pandas in a future version. Use pandas.concat instead.\n",
            "  selected = selected.append(temp_individ) # Добавляем особь, которая выиграла в рулетке, в датафрейм отобранных особей\n",
            "<ipython-input-750-17180d125845>:26: FutureWarning: The frame.append method is deprecated and will be removed from pandas in a future version. Use pandas.concat instead.\n",
            "  selected = selected.append(temp_individ) # Добавляем особь, которая выиграла в рулетке, в датафрейм отобранных особей\n",
            "<ipython-input-750-17180d125845>:26: FutureWarning: The frame.append method is deprecated and will be removed from pandas in a future version. Use pandas.concat instead.\n",
            "  selected = selected.append(temp_individ) # Добавляем особь, которая выиграла в рулетке, в датафрейм отобранных особей\n",
            "<ipython-input-750-17180d125845>:26: FutureWarning: The frame.append method is deprecated and will be removed from pandas in a future version. Use pandas.concat instead.\n",
            "  selected = selected.append(temp_individ) # Добавляем особь, которая выиграла в рулетке, в датафрейм отобранных особей\n",
            "<ipython-input-750-17180d125845>:26: FutureWarning: The frame.append method is deprecated and will be removed from pandas in a future version. Use pandas.concat instead.\n",
            "  selected = selected.append(temp_individ) # Добавляем особь, которая выиграла в рулетке, в датафрейм отобранных особей\n",
            "<ipython-input-750-17180d125845>:26: FutureWarning: The frame.append method is deprecated and will be removed from pandas in a future version. Use pandas.concat instead.\n",
            "  selected = selected.append(temp_individ) # Добавляем особь, которая выиграла в рулетке, в датафрейм отобранных особей\n",
            "<ipython-input-750-17180d125845>:26: FutureWarning: The frame.append method is deprecated and will be removed from pandas in a future version. Use pandas.concat instead.\n",
            "  selected = selected.append(temp_individ) # Добавляем особь, которая выиграла в рулетке, в датафрейм отобранных особей\n",
            "<ipython-input-750-17180d125845>:26: FutureWarning: The frame.append method is deprecated and will be removed from pandas in a future version. Use pandas.concat instead.\n",
            "  selected = selected.append(temp_individ) # Добавляем особь, которая выиграла в рулетке, в датафрейм отобранных особей\n",
            "<ipython-input-750-17180d125845>:26: FutureWarning: The frame.append method is deprecated and will be removed from pandas in a future version. Use pandas.concat instead.\n",
            "  selected = selected.append(temp_individ) # Добавляем особь, которая выиграла в рулетке, в датафрейм отобранных особей\n",
            "<ipython-input-750-17180d125845>:26: FutureWarning: The frame.append method is deprecated and will be removed from pandas in a future version. Use pandas.concat instead.\n",
            "  selected = selected.append(temp_individ) # Добавляем особь, которая выиграла в рулетке, в датафрейм отобранных особей\n",
            "<ipython-input-750-17180d125845>:26: FutureWarning: The frame.append method is deprecated and will be removed from pandas in a future version. Use pandas.concat instead.\n",
            "  selected = selected.append(temp_individ) # Добавляем особь, которая выиграла в рулетке, в датафрейм отобранных особей\n",
            "<ipython-input-750-17180d125845>:26: FutureWarning: The frame.append method is deprecated and will be removed from pandas in a future version. Use pandas.concat instead.\n",
            "  selected = selected.append(temp_individ) # Добавляем особь, которая выиграла в рулетке, в датафрейм отобранных особей\n",
            "<ipython-input-750-17180d125845>:26: FutureWarning: The frame.append method is deprecated and will be removed from pandas in a future version. Use pandas.concat instead.\n",
            "  selected = selected.append(temp_individ) # Добавляем особь, которая выиграла в рулетке, в датафрейм отобранных особей\n",
            "<ipython-input-750-17180d125845>:26: FutureWarning: The frame.append method is deprecated and will be removed from pandas in a future version. Use pandas.concat instead.\n",
            "  selected = selected.append(temp_individ) # Добавляем особь, которая выиграла в рулетке, в датафрейм отобранных особей\n",
            "<ipython-input-750-17180d125845>:26: FutureWarning: The frame.append method is deprecated and will be removed from pandas in a future version. Use pandas.concat instead.\n",
            "  selected = selected.append(temp_individ) # Добавляем особь, которая выиграла в рулетке, в датафрейм отобранных особей\n",
            "<ipython-input-750-17180d125845>:26: FutureWarning: The frame.append method is deprecated and will be removed from pandas in a future version. Use pandas.concat instead.\n",
            "  selected = selected.append(temp_individ) # Добавляем особь, которая выиграла в рулетке, в датафрейм отобранных особей\n",
            "<ipython-input-750-17180d125845>:26: FutureWarning: The frame.append method is deprecated and will be removed from pandas in a future version. Use pandas.concat instead.\n",
            "  selected = selected.append(temp_individ) # Добавляем особь, которая выиграла в рулетке, в датафрейм отобранных особей\n",
            "<ipython-input-750-17180d125845>:26: FutureWarning: The frame.append method is deprecated and will be removed from pandas in a future version. Use pandas.concat instead.\n",
            "  selected = selected.append(temp_individ) # Добавляем особь, которая выиграла в рулетке, в датафрейм отобранных особей\n",
            "<ipython-input-750-17180d125845>:26: FutureWarning: The frame.append method is deprecated and will be removed from pandas in a future version. Use pandas.concat instead.\n",
            "  selected = selected.append(temp_individ) # Добавляем особь, которая выиграла в рулетке, в датафрейм отобранных особей\n",
            "<ipython-input-750-17180d125845>:26: FutureWarning: The frame.append method is deprecated and will be removed from pandas in a future version. Use pandas.concat instead.\n",
            "  selected = selected.append(temp_individ) # Добавляем особь, которая выиграла в рулетке, в датафрейм отобранных особей\n",
            "<ipython-input-750-17180d125845>:26: FutureWarning: The frame.append method is deprecated and will be removed from pandas in a future version. Use pandas.concat instead.\n",
            "  selected = selected.append(temp_individ) # Добавляем особь, которая выиграла в рулетке, в датафрейм отобранных особей\n",
            "<ipython-input-750-17180d125845>:26: FutureWarning: The frame.append method is deprecated and will be removed from pandas in a future version. Use pandas.concat instead.\n",
            "  selected = selected.append(temp_individ) # Добавляем особь, которая выиграла в рулетке, в датафрейм отобранных особей\n",
            "<ipython-input-750-17180d125845>:26: FutureWarning: The frame.append method is deprecated and will be removed from pandas in a future version. Use pandas.concat instead.\n",
            "  selected = selected.append(temp_individ) # Добавляем особь, которая выиграла в рулетке, в датафрейм отобранных особей\n",
            "<ipython-input-750-17180d125845>:26: FutureWarning: The frame.append method is deprecated and will be removed from pandas in a future version. Use pandas.concat instead.\n",
            "  selected = selected.append(temp_individ) # Добавляем особь, которая выиграла в рулетке, в датафрейм отобранных особей\n",
            "<ipython-input-750-17180d125845>:26: FutureWarning: The frame.append method is deprecated and will be removed from pandas in a future version. Use pandas.concat instead.\n",
            "  selected = selected.append(temp_individ) # Добавляем особь, которая выиграла в рулетке, в датафрейм отобранных особей\n",
            "<ipython-input-750-17180d125845>:26: FutureWarning: The frame.append method is deprecated and will be removed from pandas in a future version. Use pandas.concat instead.\n",
            "  selected = selected.append(temp_individ) # Добавляем особь, которая выиграла в рулетке, в датафрейм отобранных особей\n",
            "<ipython-input-750-17180d125845>:26: FutureWarning: The frame.append method is deprecated and will be removed from pandas in a future version. Use pandas.concat instead.\n",
            "  selected = selected.append(temp_individ) # Добавляем особь, которая выиграла в рулетке, в датафрейм отобранных особей\n",
            "<ipython-input-750-17180d125845>:26: FutureWarning: The frame.append method is deprecated and will be removed from pandas in a future version. Use pandas.concat instead.\n",
            "  selected = selected.append(temp_individ) # Добавляем особь, которая выиграла в рулетке, в датафрейм отобранных особей\n",
            "<ipython-input-750-17180d125845>:26: FutureWarning: The frame.append method is deprecated and will be removed from pandas in a future version. Use pandas.concat instead.\n",
            "  selected = selected.append(temp_individ) # Добавляем особь, которая выиграла в рулетке, в датафрейм отобранных особей\n",
            "<ipython-input-750-17180d125845>:26: FutureWarning: The frame.append method is deprecated and will be removed from pandas in a future version. Use pandas.concat instead.\n",
            "  selected = selected.append(temp_individ) # Добавляем особь, которая выиграла в рулетке, в датафрейм отобранных особей\n",
            "<ipython-input-750-17180d125845>:26: FutureWarning: The frame.append method is deprecated and will be removed from pandas in a future version. Use pandas.concat instead.\n",
            "  selected = selected.append(temp_individ) # Добавляем особь, которая выиграла в рулетке, в датафрейм отобранных особей\n",
            "<ipython-input-750-17180d125845>:26: FutureWarning: The frame.append method is deprecated and will be removed from pandas in a future version. Use pandas.concat instead.\n",
            "  selected = selected.append(temp_individ) # Добавляем особь, которая выиграла в рулетке, в датафрейм отобранных особей\n",
            "<ipython-input-750-17180d125845>:26: FutureWarning: The frame.append method is deprecated and will be removed from pandas in a future version. Use pandas.concat instead.\n",
            "  selected = selected.append(temp_individ) # Добавляем особь, которая выиграла в рулетке, в датафрейм отобранных особей\n",
            "<ipython-input-750-17180d125845>:26: FutureWarning: The frame.append method is deprecated and will be removed from pandas in a future version. Use pandas.concat instead.\n",
            "  selected = selected.append(temp_individ) # Добавляем особь, которая выиграла в рулетке, в датафрейм отобранных особей\n",
            "<ipython-input-750-17180d125845>:26: FutureWarning: The frame.append method is deprecated and will be removed from pandas in a future version. Use pandas.concat instead.\n",
            "  selected = selected.append(temp_individ) # Добавляем особь, которая выиграла в рулетке, в датафрейм отобранных особей\n",
            "<ipython-input-750-17180d125845>:26: FutureWarning: The frame.append method is deprecated and will be removed from pandas in a future version. Use pandas.concat instead.\n",
            "  selected = selected.append(temp_individ) # Добавляем особь, которая выиграла в рулетке, в датафрейм отобранных особей\n",
            "<ipython-input-750-17180d125845>:26: FutureWarning: The frame.append method is deprecated and will be removed from pandas in a future version. Use pandas.concat instead.\n",
            "  selected = selected.append(temp_individ) # Добавляем особь, которая выиграла в рулетке, в датафрейм отобранных особей\n",
            "<ipython-input-750-17180d125845>:26: FutureWarning: The frame.append method is deprecated and will be removed from pandas in a future version. Use pandas.concat instead.\n",
            "  selected = selected.append(temp_individ) # Добавляем особь, которая выиграла в рулетке, в датафрейм отобранных особей\n",
            "<ipython-input-750-17180d125845>:26: FutureWarning: The frame.append method is deprecated and will be removed from pandas in a future version. Use pandas.concat instead.\n",
            "  selected = selected.append(temp_individ) # Добавляем особь, которая выиграла в рулетке, в датафрейм отобранных особей\n",
            "<ipython-input-750-17180d125845>:26: FutureWarning: The frame.append method is deprecated and will be removed from pandas in a future version. Use pandas.concat instead.\n",
            "  selected = selected.append(temp_individ) # Добавляем особь, которая выиграла в рулетке, в датафрейм отобранных особей\n",
            "<ipython-input-750-17180d125845>:26: FutureWarning: The frame.append method is deprecated and will be removed from pandas in a future version. Use pandas.concat instead.\n",
            "  selected = selected.append(temp_individ) # Добавляем особь, которая выиграла в рулетке, в датафрейм отобранных особей\n",
            "<ipython-input-750-17180d125845>:26: FutureWarning: The frame.append method is deprecated and will be removed from pandas in a future version. Use pandas.concat instead.\n",
            "  selected = selected.append(temp_individ) # Добавляем особь, которая выиграла в рулетке, в датафрейм отобранных особей\n",
            "<ipython-input-750-17180d125845>:26: FutureWarning: The frame.append method is deprecated and will be removed from pandas in a future version. Use pandas.concat instead.\n",
            "  selected = selected.append(temp_individ) # Добавляем особь, которая выиграла в рулетке, в датафрейм отобранных особей\n",
            "<ipython-input-750-17180d125845>:26: FutureWarning: The frame.append method is deprecated and will be removed from pandas in a future version. Use pandas.concat instead.\n",
            "  selected = selected.append(temp_individ) # Добавляем особь, которая выиграла в рулетке, в датафрейм отобранных особей\n",
            "<ipython-input-750-17180d125845>:26: FutureWarning: The frame.append method is deprecated and will be removed from pandas in a future version. Use pandas.concat instead.\n",
            "  selected = selected.append(temp_individ) # Добавляем особь, которая выиграла в рулетке, в датафрейм отобранных особей\n",
            "<ipython-input-750-17180d125845>:26: FutureWarning: The frame.append method is deprecated and will be removed from pandas in a future version. Use pandas.concat instead.\n",
            "  selected = selected.append(temp_individ) # Добавляем особь, которая выиграла в рулетке, в датафрейм отобранных особей\n",
            "<ipython-input-750-17180d125845>:26: FutureWarning: The frame.append method is deprecated and will be removed from pandas in a future version. Use pandas.concat instead.\n",
            "  selected = selected.append(temp_individ) # Добавляем особь, которая выиграла в рулетке, в датафрейм отобранных особей\n",
            "<ipython-input-750-17180d125845>:26: FutureWarning: The frame.append method is deprecated and will be removed from pandas in a future version. Use pandas.concat instead.\n",
            "  selected = selected.append(temp_individ) # Добавляем особь, которая выиграла в рулетке, в датафрейм отобранных особей\n",
            "<ipython-input-750-17180d125845>:26: FutureWarning: The frame.append method is deprecated and will be removed from pandas in a future version. Use pandas.concat instead.\n",
            "  selected = selected.append(temp_individ) # Добавляем особь, которая выиграла в рулетке, в датафрейм отобранных особей\n",
            "<ipython-input-750-17180d125845>:26: FutureWarning: The frame.append method is deprecated and will be removed from pandas in a future version. Use pandas.concat instead.\n",
            "  selected = selected.append(temp_individ) # Добавляем особь, которая выиграла в рулетке, в датафрейм отобранных особей\n",
            "<ipython-input-750-17180d125845>:26: FutureWarning: The frame.append method is deprecated and will be removed from pandas in a future version. Use pandas.concat instead.\n",
            "  selected = selected.append(temp_individ) # Добавляем особь, которая выиграла в рулетке, в датафрейм отобранных особей\n",
            "<ipython-input-750-17180d125845>:26: FutureWarning: The frame.append method is deprecated and will be removed from pandas in a future version. Use pandas.concat instead.\n",
            "  selected = selected.append(temp_individ) # Добавляем особь, которая выиграла в рулетке, в датафрейм отобранных особей\n",
            "<ipython-input-750-17180d125845>:26: FutureWarning: The frame.append method is deprecated and will be removed from pandas in a future version. Use pandas.concat instead.\n",
            "  selected = selected.append(temp_individ) # Добавляем особь, которая выиграла в рулетке, в датафрейм отобранных особей\n",
            "<ipython-input-750-17180d125845>:26: FutureWarning: The frame.append method is deprecated and will be removed from pandas in a future version. Use pandas.concat instead.\n",
            "  selected = selected.append(temp_individ) # Добавляем особь, которая выиграла в рулетке, в датафрейм отобранных особей\n",
            "<ipython-input-750-17180d125845>:26: FutureWarning: The frame.append method is deprecated and will be removed from pandas in a future version. Use pandas.concat instead.\n",
            "  selected = selected.append(temp_individ) # Добавляем особь, которая выиграла в рулетке, в датафрейм отобранных особей\n",
            "<ipython-input-750-17180d125845>:26: FutureWarning: The frame.append method is deprecated and will be removed from pandas in a future version. Use pandas.concat instead.\n",
            "  selected = selected.append(temp_individ) # Добавляем особь, которая выиграла в рулетке, в датафрейм отобранных особей\n",
            "<ipython-input-750-17180d125845>:26: FutureWarning: The frame.append method is deprecated and will be removed from pandas in a future version. Use pandas.concat instead.\n",
            "  selected = selected.append(temp_individ) # Добавляем особь, которая выиграла в рулетке, в датафрейм отобранных особей\n",
            "<ipython-input-750-17180d125845>:26: FutureWarning: The frame.append method is deprecated and will be removed from pandas in a future version. Use pandas.concat instead.\n",
            "  selected = selected.append(temp_individ) # Добавляем особь, которая выиграла в рулетке, в датафрейм отобранных особей\n",
            "<ipython-input-750-17180d125845>:26: FutureWarning: The frame.append method is deprecated and will be removed from pandas in a future version. Use pandas.concat instead.\n",
            "  selected = selected.append(temp_individ) # Добавляем особь, которая выиграла в рулетке, в датафрейм отобранных особей\n",
            "<ipython-input-750-17180d125845>:26: FutureWarning: The frame.append method is deprecated and will be removed from pandas in a future version. Use pandas.concat instead.\n",
            "  selected = selected.append(temp_individ) # Добавляем особь, которая выиграла в рулетке, в датафрейм отобранных особей\n",
            "<ipython-input-750-17180d125845>:26: FutureWarning: The frame.append method is deprecated and will be removed from pandas in a future version. Use pandas.concat instead.\n",
            "  selected = selected.append(temp_individ) # Добавляем особь, которая выиграла в рулетке, в датафрейм отобранных особей\n",
            "<ipython-input-750-17180d125845>:26: FutureWarning: The frame.append method is deprecated and will be removed from pandas in a future version. Use pandas.concat instead.\n",
            "  selected = selected.append(temp_individ) # Добавляем особь, которая выиграла в рулетке, в датафрейм отобранных особей\n",
            "<ipython-input-750-17180d125845>:26: FutureWarning: The frame.append method is deprecated and will be removed from pandas in a future version. Use pandas.concat instead.\n",
            "  selected = selected.append(temp_individ) # Добавляем особь, которая выиграла в рулетке, в датафрейм отобранных особей\n",
            "<ipython-input-750-17180d125845>:26: FutureWarning: The frame.append method is deprecated and will be removed from pandas in a future version. Use pandas.concat instead.\n",
            "  selected = selected.append(temp_individ) # Добавляем особь, которая выиграла в рулетке, в датафрейм отобранных особей\n",
            "<ipython-input-750-17180d125845>:26: FutureWarning: The frame.append method is deprecated and will be removed from pandas in a future version. Use pandas.concat instead.\n",
            "  selected = selected.append(temp_individ) # Добавляем особь, которая выиграла в рулетке, в датафрейм отобранных особей\n",
            "<ipython-input-750-17180d125845>:26: FutureWarning: The frame.append method is deprecated and will be removed from pandas in a future version. Use pandas.concat instead.\n",
            "  selected = selected.append(temp_individ) # Добавляем особь, которая выиграла в рулетке, в датафрейм отобранных особей\n",
            "<ipython-input-750-17180d125845>:26: FutureWarning: The frame.append method is deprecated and will be removed from pandas in a future version. Use pandas.concat instead.\n",
            "  selected = selected.append(temp_individ) # Добавляем особь, которая выиграла в рулетке, в датафрейм отобранных особей\n",
            "<ipython-input-750-17180d125845>:26: FutureWarning: The frame.append method is deprecated and will be removed from pandas in a future version. Use pandas.concat instead.\n",
            "  selected = selected.append(temp_individ) # Добавляем особь, которая выиграла в рулетке, в датафрейм отобранных особей\n",
            "<ipython-input-750-17180d125845>:26: FutureWarning: The frame.append method is deprecated and will be removed from pandas in a future version. Use pandas.concat instead.\n",
            "  selected = selected.append(temp_individ) # Добавляем особь, которая выиграла в рулетке, в датафрейм отобранных особей\n",
            "<ipython-input-750-17180d125845>:26: FutureWarning: The frame.append method is deprecated and will be removed from pandas in a future version. Use pandas.concat instead.\n",
            "  selected = selected.append(temp_individ) # Добавляем особь, которая выиграла в рулетке, в датафрейм отобранных особей\n",
            "<ipython-input-750-17180d125845>:26: FutureWarning: The frame.append method is deprecated and will be removed from pandas in a future version. Use pandas.concat instead.\n",
            "  selected = selected.append(temp_individ) # Добавляем особь, которая выиграла в рулетке, в датафрейм отобранных особей\n",
            "<ipython-input-750-17180d125845>:26: FutureWarning: The frame.append method is deprecated and will be removed from pandas in a future version. Use pandas.concat instead.\n",
            "  selected = selected.append(temp_individ) # Добавляем особь, которая выиграла в рулетке, в датафрейм отобранных особей\n",
            "<ipython-input-750-17180d125845>:26: FutureWarning: The frame.append method is deprecated and will be removed from pandas in a future version. Use pandas.concat instead.\n",
            "  selected = selected.append(temp_individ) # Добавляем особь, которая выиграла в рулетке, в датафрейм отобранных особей\n",
            "<ipython-input-750-17180d125845>:26: FutureWarning: The frame.append method is deprecated and will be removed from pandas in a future version. Use pandas.concat instead.\n",
            "  selected = selected.append(temp_individ) # Добавляем особь, которая выиграла в рулетке, в датафрейм отобранных особей\n",
            "<ipython-input-750-17180d125845>:26: FutureWarning: The frame.append method is deprecated and will be removed from pandas in a future version. Use pandas.concat instead.\n",
            "  selected = selected.append(temp_individ) # Добавляем особь, которая выиграла в рулетке, в датафрейм отобранных особей\n",
            "<ipython-input-750-17180d125845>:26: FutureWarning: The frame.append method is deprecated and will be removed from pandas in a future version. Use pandas.concat instead.\n",
            "  selected = selected.append(temp_individ) # Добавляем особь, которая выиграла в рулетке, в датафрейм отобранных особей\n",
            "<ipython-input-750-17180d125845>:26: FutureWarning: The frame.append method is deprecated and will be removed from pandas in a future version. Use pandas.concat instead.\n",
            "  selected = selected.append(temp_individ) # Добавляем особь, которая выиграла в рулетке, в датафрейм отобранных особей\n",
            "<ipython-input-750-17180d125845>:26: FutureWarning: The frame.append method is deprecated and will be removed from pandas in a future version. Use pandas.concat instead.\n",
            "  selected = selected.append(temp_individ) # Добавляем особь, которая выиграла в рулетке, в датафрейм отобранных особей\n",
            "<ipython-input-750-17180d125845>:26: FutureWarning: The frame.append method is deprecated and will be removed from pandas in a future version. Use pandas.concat instead.\n",
            "  selected = selected.append(temp_individ) # Добавляем особь, которая выиграла в рулетке, в датафрейм отобранных особей\n",
            "<ipython-input-750-17180d125845>:26: FutureWarning: The frame.append method is deprecated and will be removed from pandas in a future version. Use pandas.concat instead.\n",
            "  selected = selected.append(temp_individ) # Добавляем особь, которая выиграла в рулетке, в датафрейм отобранных особей\n",
            "<ipython-input-750-17180d125845>:26: FutureWarning: The frame.append method is deprecated and will be removed from pandas in a future version. Use pandas.concat instead.\n",
            "  selected = selected.append(temp_individ) # Добавляем особь, которая выиграла в рулетке, в датафрейм отобранных особей\n",
            "<ipython-input-750-17180d125845>:26: FutureWarning: The frame.append method is deprecated and will be removed from pandas in a future version. Use pandas.concat instead.\n",
            "  selected = selected.append(temp_individ) # Добавляем особь, которая выиграла в рулетке, в датафрейм отобранных особей\n",
            "<ipython-input-750-17180d125845>:26: FutureWarning: The frame.append method is deprecated and will be removed from pandas in a future version. Use pandas.concat instead.\n",
            "  selected = selected.append(temp_individ) # Добавляем особь, которая выиграла в рулетке, в датафрейм отобранных особей\n",
            "<ipython-input-750-17180d125845>:26: FutureWarning: The frame.append method is deprecated and will be removed from pandas in a future version. Use pandas.concat instead.\n",
            "  selected = selected.append(temp_individ) # Добавляем особь, которая выиграла в рулетке, в датафрейм отобранных особей\n",
            "<ipython-input-750-17180d125845>:26: FutureWarning: The frame.append method is deprecated and will be removed from pandas in a future version. Use pandas.concat instead.\n",
            "  selected = selected.append(temp_individ) # Добавляем особь, которая выиграла в рулетке, в датафрейм отобранных особей\n",
            "<ipython-input-750-17180d125845>:26: FutureWarning: The frame.append method is deprecated and will be removed from pandas in a future version. Use pandas.concat instead.\n",
            "  selected = selected.append(temp_individ) # Добавляем особь, которая выиграла в рулетке, в датафрейм отобранных особей\n",
            "<ipython-input-750-17180d125845>:26: FutureWarning: The frame.append method is deprecated and will be removed from pandas in a future version. Use pandas.concat instead.\n",
            "  selected = selected.append(temp_individ) # Добавляем особь, которая выиграла в рулетке, в датафрейм отобранных особей\n",
            "<ipython-input-750-17180d125845>:26: FutureWarning: The frame.append method is deprecated and will be removed from pandas in a future version. Use pandas.concat instead.\n",
            "  selected = selected.append(temp_individ) # Добавляем особь, которая выиграла в рулетке, в датафрейм отобранных особей\n",
            "<ipython-input-750-17180d125845>:26: FutureWarning: The frame.append method is deprecated and will be removed from pandas in a future version. Use pandas.concat instead.\n",
            "  selected = selected.append(temp_individ) # Добавляем особь, которая выиграла в рулетке, в датафрейм отобранных особей\n",
            "<ipython-input-750-17180d125845>:26: FutureWarning: The frame.append method is deprecated and will be removed from pandas in a future version. Use pandas.concat instead.\n",
            "  selected = selected.append(temp_individ) # Добавляем особь, которая выиграла в рулетке, в датафрейм отобранных особей\n",
            "<ipython-input-750-17180d125845>:26: FutureWarning: The frame.append method is deprecated and will be removed from pandas in a future version. Use pandas.concat instead.\n",
            "  selected = selected.append(temp_individ) # Добавляем особь, которая выиграла в рулетке, в датафрейм отобранных особей\n",
            "<ipython-input-750-17180d125845>:26: FutureWarning: The frame.append method is deprecated and will be removed from pandas in a future version. Use pandas.concat instead.\n",
            "  selected = selected.append(temp_individ) # Добавляем особь, которая выиграла в рулетке, в датафрейм отобранных особей\n",
            "<ipython-input-750-17180d125845>:26: FutureWarning: The frame.append method is deprecated and will be removed from pandas in a future version. Use pandas.concat instead.\n",
            "  selected = selected.append(temp_individ) # Добавляем особь, которая выиграла в рулетке, в датафрейм отобранных особей\n",
            "<ipython-input-750-17180d125845>:26: FutureWarning: The frame.append method is deprecated and will be removed from pandas in a future version. Use pandas.concat instead.\n",
            "  selected = selected.append(temp_individ) # Добавляем особь, которая выиграла в рулетке, в датафрейм отобранных особей\n",
            "<ipython-input-750-17180d125845>:26: FutureWarning: The frame.append method is deprecated and will be removed from pandas in a future version. Use pandas.concat instead.\n",
            "  selected = selected.append(temp_individ) # Добавляем особь, которая выиграла в рулетке, в датафрейм отобранных особей\n",
            "<ipython-input-750-17180d125845>:26: FutureWarning: The frame.append method is deprecated and will be removed from pandas in a future version. Use pandas.concat instead.\n",
            "  selected = selected.append(temp_individ) # Добавляем особь, которая выиграла в рулетке, в датафрейм отобранных особей\n",
            "<ipython-input-750-17180d125845>:26: FutureWarning: The frame.append method is deprecated and will be removed from pandas in a future version. Use pandas.concat instead.\n",
            "  selected = selected.append(temp_individ) # Добавляем особь, которая выиграла в рулетке, в датафрейм отобранных особей\n",
            "<ipython-input-750-17180d125845>:26: FutureWarning: The frame.append method is deprecated and will be removed from pandas in a future version. Use pandas.concat instead.\n",
            "  selected = selected.append(temp_individ) # Добавляем особь, которая выиграла в рулетке, в датафрейм отобранных особей\n",
            "<ipython-input-750-17180d125845>:26: FutureWarning: The frame.append method is deprecated and will be removed from pandas in a future version. Use pandas.concat instead.\n",
            "  selected = selected.append(temp_individ) # Добавляем особь, которая выиграла в рулетке, в датафрейм отобранных особей\n",
            "<ipython-input-750-17180d125845>:26: FutureWarning: The frame.append method is deprecated and will be removed from pandas in a future version. Use pandas.concat instead.\n",
            "  selected = selected.append(temp_individ) # Добавляем особь, которая выиграла в рулетке, в датафрейм отобранных особей\n",
            "<ipython-input-750-17180d125845>:26: FutureWarning: The frame.append method is deprecated and will be removed from pandas in a future version. Use pandas.concat instead.\n",
            "  selected = selected.append(temp_individ) # Добавляем особь, которая выиграла в рулетке, в датафрейм отобранных особей\n",
            "<ipython-input-750-17180d125845>:26: FutureWarning: The frame.append method is deprecated and will be removed from pandas in a future version. Use pandas.concat instead.\n",
            "  selected = selected.append(temp_individ) # Добавляем особь, которая выиграла в рулетке, в датафрейм отобранных особей\n",
            "<ipython-input-750-17180d125845>:26: FutureWarning: The frame.append method is deprecated and will be removed from pandas in a future version. Use pandas.concat instead.\n",
            "  selected = selected.append(temp_individ) # Добавляем особь, которая выиграла в рулетке, в датафрейм отобранных особей\n",
            "<ipython-input-750-17180d125845>:26: FutureWarning: The frame.append method is deprecated and will be removed from pandas in a future version. Use pandas.concat instead.\n",
            "  selected = selected.append(temp_individ) # Добавляем особь, которая выиграла в рулетке, в датафрейм отобранных особей\n",
            "<ipython-input-750-17180d125845>:26: FutureWarning: The frame.append method is deprecated and will be removed from pandas in a future version. Use pandas.concat instead.\n",
            "  selected = selected.append(temp_individ) # Добавляем особь, которая выиграла в рулетке, в датафрейм отобранных особей\n",
            "<ipython-input-750-17180d125845>:26: FutureWarning: The frame.append method is deprecated and will be removed from pandas in a future version. Use pandas.concat instead.\n",
            "  selected = selected.append(temp_individ) # Добавляем особь, которая выиграла в рулетке, в датафрейм отобранных особей\n",
            "<ipython-input-750-17180d125845>:26: FutureWarning: The frame.append method is deprecated and will be removed from pandas in a future version. Use pandas.concat instead.\n",
            "  selected = selected.append(temp_individ) # Добавляем особь, которая выиграла в рулетке, в датафрейм отобранных особей\n",
            "<ipython-input-750-17180d125845>:26: FutureWarning: The frame.append method is deprecated and will be removed from pandas in a future version. Use pandas.concat instead.\n",
            "  selected = selected.append(temp_individ) # Добавляем особь, которая выиграла в рулетке, в датафрейм отобранных особей\n",
            "<ipython-input-750-17180d125845>:26: FutureWarning: The frame.append method is deprecated and will be removed from pandas in a future version. Use pandas.concat instead.\n",
            "  selected = selected.append(temp_individ) # Добавляем особь, которая выиграла в рулетке, в датафрейм отобранных особей\n",
            "<ipython-input-750-17180d125845>:26: FutureWarning: The frame.append method is deprecated and will be removed from pandas in a future version. Use pandas.concat instead.\n",
            "  selected = selected.append(temp_individ) # Добавляем особь, которая выиграла в рулетке, в датафрейм отобранных особей\n",
            "<ipython-input-750-17180d125845>:26: FutureWarning: The frame.append method is deprecated and will be removed from pandas in a future version. Use pandas.concat instead.\n",
            "  selected = selected.append(temp_individ) # Добавляем особь, которая выиграла в рулетке, в датафрейм отобранных особей\n",
            "<ipython-input-750-17180d125845>:26: FutureWarning: The frame.append method is deprecated and will be removed from pandas in a future version. Use pandas.concat instead.\n",
            "  selected = selected.append(temp_individ) # Добавляем особь, которая выиграла в рулетке, в датафрейм отобранных особей\n",
            "<ipython-input-750-17180d125845>:26: FutureWarning: The frame.append method is deprecated and will be removed from pandas in a future version. Use pandas.concat instead.\n",
            "  selected = selected.append(temp_individ) # Добавляем особь, которая выиграла в рулетке, в датафрейм отобранных особей\n",
            "<ipython-input-750-17180d125845>:26: FutureWarning: The frame.append method is deprecated and will be removed from pandas in a future version. Use pandas.concat instead.\n",
            "  selected = selected.append(temp_individ) # Добавляем особь, которая выиграла в рулетке, в датафрейм отобранных особей\n",
            "<ipython-input-750-17180d125845>:26: FutureWarning: The frame.append method is deprecated and will be removed from pandas in a future version. Use pandas.concat instead.\n",
            "  selected = selected.append(temp_individ) # Добавляем особь, которая выиграла в рулетке, в датафрейм отобранных особей\n",
            "<ipython-input-750-17180d125845>:26: FutureWarning: The frame.append method is deprecated and will be removed from pandas in a future version. Use pandas.concat instead.\n",
            "  selected = selected.append(temp_individ) # Добавляем особь, которая выиграла в рулетке, в датафрейм отобранных особей\n",
            "<ipython-input-750-17180d125845>:26: FutureWarning: The frame.append method is deprecated and will be removed from pandas in a future version. Use pandas.concat instead.\n",
            "  selected = selected.append(temp_individ) # Добавляем особь, которая выиграла в рулетке, в датафрейм отобранных особей\n",
            "<ipython-input-750-17180d125845>:26: FutureWarning: The frame.append method is deprecated and will be removed from pandas in a future version. Use pandas.concat instead.\n",
            "  selected = selected.append(temp_individ) # Добавляем особь, которая выиграла в рулетке, в датафрейм отобранных особей\n"
          ]
        }
      ]
    },
    {
      "cell_type": "code",
      "source": [
        "len(select_individs['Приспособленность'].unique())"
      ],
      "metadata": {
        "colab": {
          "base_uri": "https://localhost:8080/"
        },
        "id": "eefCZN1L8-p4",
        "outputId": "dd323eca-eae9-43a0-d41f-0e03fbb17d87"
      },
      "execution_count": null,
      "outputs": [
        {
          "output_type": "execute_result",
          "data": {
            "text/plain": [
              "67"
            ]
          },
          "metadata": {},
          "execution_count": 752
        }
      ]
    },
    {
      "cell_type": "code",
      "source": [
        "select_individs"
      ],
      "metadata": {
        "colab": {
          "base_uri": "https://localhost:8080/",
          "height": 424
        },
        "id": "7OQGFkoHILyC",
        "outputId": "c285f71e-c77f-4485-a1e1-4d810fc764a3"
      },
      "execution_count": null,
      "outputs": [
        {
          "output_type": "execute_result",
          "data": {
            "text/plain": [
              "                                       Особь реальная  \\\n",
              "0   [[2588, 3519, 3980], [3380, 1824, 648, 2479], ...   \n",
              "1   [[1363, 3433, 4635], [836, 3380, 1824, 3305], ...   \n",
              "2   [[1481, 4635, 2479, 528], [1225, 3176, 2316, 3...   \n",
              "3   [[1363, 2156, 2992, 3304], [1952, 3832, 4068],...   \n",
              "4   [[3380, 2316, 3305], [2479, 1824, 3980, 528], ...   \n",
              "..                                                ...   \n",
              "62  [[3380, 2588, 4068], [1225, 2479, 4107], [1363...   \n",
              "63  [[1363, 4635, 4068], [1824, 648, 1952, 2479, 1...   \n",
              "64  [[836, 3433, 1363, 528, 3304], [4635, 4068], [...   \n",
              "65  [[3380, 1824, 1481, 3176], [4635, 2588, 2787],...   \n",
              "66  [[2588, 3433, 3519], [2705, 1363, 4107], [4635...   \n",
              "\n",
              "                                        Особь булевая  Приспособленность  \n",
              "0   [[False, False, False, False, False, False, Fa...       16559.773749  \n",
              "1   [[False, False, False, False, False, False, Tr...       15748.291967  \n",
              "2   [[False, False, True, False, False, False, Fal...       15723.783377  \n",
              "3   [[False, False, False, False, False, False, Fa...       15382.692277  \n",
              "4   [[False, False, False, False, False, False, Fa...       14983.595114  \n",
              "..                                                ...                ...  \n",
              "62  [[True, False, False, False, False, False, Fal...       11466.607946  \n",
              "63  [[False, False, False, False, False, False, Fa...        7248.694888  \n",
              "64  [[False, False, False, False, False, True, Fal...        3434.203623  \n",
              "65  [[True, True, True, False, False, False, False...        7344.089563  \n",
              "66  [[False, False, False, False, False, False, Fa...        5300.835266  \n",
              "\n",
              "[67 rows x 3 columns]"
            ],
            "text/html": [
              "\n",
              "  <div id=\"df-559f5d7d-b203-4fd2-9ccc-f692d00f00db\" class=\"colab-df-container\">\n",
              "    <div>\n",
              "<style scoped>\n",
              "    .dataframe tbody tr th:only-of-type {\n",
              "        vertical-align: middle;\n",
              "    }\n",
              "\n",
              "    .dataframe tbody tr th {\n",
              "        vertical-align: top;\n",
              "    }\n",
              "\n",
              "    .dataframe thead th {\n",
              "        text-align: right;\n",
              "    }\n",
              "</style>\n",
              "<table border=\"1\" class=\"dataframe\">\n",
              "  <thead>\n",
              "    <tr style=\"text-align: right;\">\n",
              "      <th></th>\n",
              "      <th>Особь реальная</th>\n",
              "      <th>Особь булевая</th>\n",
              "      <th>Приспособленность</th>\n",
              "    </tr>\n",
              "  </thead>\n",
              "  <tbody>\n",
              "    <tr>\n",
              "      <th>0</th>\n",
              "      <td>[[2588, 3519, 3980], [3380, 1824, 648, 2479], ...</td>\n",
              "      <td>[[False, False, False, False, False, False, Fa...</td>\n",
              "      <td>16559.773749</td>\n",
              "    </tr>\n",
              "    <tr>\n",
              "      <th>1</th>\n",
              "      <td>[[1363, 3433, 4635], [836, 3380, 1824, 3305], ...</td>\n",
              "      <td>[[False, False, False, False, False, False, Tr...</td>\n",
              "      <td>15748.291967</td>\n",
              "    </tr>\n",
              "    <tr>\n",
              "      <th>2</th>\n",
              "      <td>[[1481, 4635, 2479, 528], [1225, 3176, 2316, 3...</td>\n",
              "      <td>[[False, False, True, False, False, False, Fal...</td>\n",
              "      <td>15723.783377</td>\n",
              "    </tr>\n",
              "    <tr>\n",
              "      <th>3</th>\n",
              "      <td>[[1363, 2156, 2992, 3304], [1952, 3832, 4068],...</td>\n",
              "      <td>[[False, False, False, False, False, False, Fa...</td>\n",
              "      <td>15382.692277</td>\n",
              "    </tr>\n",
              "    <tr>\n",
              "      <th>4</th>\n",
              "      <td>[[3380, 2316, 3305], [2479, 1824, 3980, 528], ...</td>\n",
              "      <td>[[False, False, False, False, False, False, Fa...</td>\n",
              "      <td>14983.595114</td>\n",
              "    </tr>\n",
              "    <tr>\n",
              "      <th>...</th>\n",
              "      <td>...</td>\n",
              "      <td>...</td>\n",
              "      <td>...</td>\n",
              "    </tr>\n",
              "    <tr>\n",
              "      <th>62</th>\n",
              "      <td>[[3380, 2588, 4068], [1225, 2479, 4107], [1363...</td>\n",
              "      <td>[[True, False, False, False, False, False, Fal...</td>\n",
              "      <td>11466.607946</td>\n",
              "    </tr>\n",
              "    <tr>\n",
              "      <th>63</th>\n",
              "      <td>[[1363, 4635, 4068], [1824, 648, 1952, 2479, 1...</td>\n",
              "      <td>[[False, False, False, False, False, False, Fa...</td>\n",
              "      <td>7248.694888</td>\n",
              "    </tr>\n",
              "    <tr>\n",
              "      <th>64</th>\n",
              "      <td>[[836, 3433, 1363, 528, 3304], [4635, 4068], [...</td>\n",
              "      <td>[[False, False, False, False, False, True, Fal...</td>\n",
              "      <td>3434.203623</td>\n",
              "    </tr>\n",
              "    <tr>\n",
              "      <th>65</th>\n",
              "      <td>[[3380, 1824, 1481, 3176], [4635, 2588, 2787],...</td>\n",
              "      <td>[[True, True, True, False, False, False, False...</td>\n",
              "      <td>7344.089563</td>\n",
              "    </tr>\n",
              "    <tr>\n",
              "      <th>66</th>\n",
              "      <td>[[2588, 3433, 3519], [2705, 1363, 4107], [4635...</td>\n",
              "      <td>[[False, False, False, False, False, False, Fa...</td>\n",
              "      <td>5300.835266</td>\n",
              "    </tr>\n",
              "  </tbody>\n",
              "</table>\n",
              "<p>67 rows × 3 columns</p>\n",
              "</div>\n",
              "    <div class=\"colab-df-buttons\">\n",
              "\n",
              "  <div class=\"colab-df-container\">\n",
              "    <button class=\"colab-df-convert\" onclick=\"convertToInteractive('df-559f5d7d-b203-4fd2-9ccc-f692d00f00db')\"\n",
              "            title=\"Convert this dataframe to an interactive table.\"\n",
              "            style=\"display:none;\">\n",
              "\n",
              "  <svg xmlns=\"http://www.w3.org/2000/svg\" height=\"24px\" viewBox=\"0 -960 960 960\">\n",
              "    <path d=\"M120-120v-720h720v720H120Zm60-500h600v-160H180v160Zm220 220h160v-160H400v160Zm0 220h160v-160H400v160ZM180-400h160v-160H180v160Zm440 0h160v-160H620v160ZM180-180h160v-160H180v160Zm440 0h160v-160H620v160Z\"/>\n",
              "  </svg>\n",
              "    </button>\n",
              "\n",
              "  <style>\n",
              "    .colab-df-container {\n",
              "      display:flex;\n",
              "      gap: 12px;\n",
              "    }\n",
              "\n",
              "    .colab-df-convert {\n",
              "      background-color: #E8F0FE;\n",
              "      border: none;\n",
              "      border-radius: 50%;\n",
              "      cursor: pointer;\n",
              "      display: none;\n",
              "      fill: #1967D2;\n",
              "      height: 32px;\n",
              "      padding: 0 0 0 0;\n",
              "      width: 32px;\n",
              "    }\n",
              "\n",
              "    .colab-df-convert:hover {\n",
              "      background-color: #E2EBFA;\n",
              "      box-shadow: 0px 1px 2px rgba(60, 64, 67, 0.3), 0px 1px 3px 1px rgba(60, 64, 67, 0.15);\n",
              "      fill: #174EA6;\n",
              "    }\n",
              "\n",
              "    .colab-df-buttons div {\n",
              "      margin-bottom: 4px;\n",
              "    }\n",
              "\n",
              "    [theme=dark] .colab-df-convert {\n",
              "      background-color: #3B4455;\n",
              "      fill: #D2E3FC;\n",
              "    }\n",
              "\n",
              "    [theme=dark] .colab-df-convert:hover {\n",
              "      background-color: #434B5C;\n",
              "      box-shadow: 0px 1px 3px 1px rgba(0, 0, 0, 0.15);\n",
              "      filter: drop-shadow(0px 1px 2px rgba(0, 0, 0, 0.3));\n",
              "      fill: #FFFFFF;\n",
              "    }\n",
              "  </style>\n",
              "\n",
              "    <script>\n",
              "      const buttonEl =\n",
              "        document.querySelector('#df-559f5d7d-b203-4fd2-9ccc-f692d00f00db button.colab-df-convert');\n",
              "      buttonEl.style.display =\n",
              "        google.colab.kernel.accessAllowed ? 'block' : 'none';\n",
              "\n",
              "      async function convertToInteractive(key) {\n",
              "        const element = document.querySelector('#df-559f5d7d-b203-4fd2-9ccc-f692d00f00db');\n",
              "        const dataTable =\n",
              "          await google.colab.kernel.invokeFunction('convertToInteractive',\n",
              "                                                    [key], {});\n",
              "        if (!dataTable) return;\n",
              "\n",
              "        const docLinkHtml = 'Like what you see? Visit the ' +\n",
              "          '<a target=\"_blank\" href=https://colab.research.google.com/notebooks/data_table.ipynb>data table notebook</a>'\n",
              "          + ' to learn more about interactive tables.';\n",
              "        element.innerHTML = '';\n",
              "        dataTable['output_type'] = 'display_data';\n",
              "        await google.colab.output.renderOutput(dataTable, element);\n",
              "        const docLink = document.createElement('div');\n",
              "        docLink.innerHTML = docLinkHtml;\n",
              "        element.appendChild(docLink);\n",
              "      }\n",
              "    </script>\n",
              "  </div>\n",
              "\n",
              "\n",
              "<div id=\"df-50517706-b4c7-480e-8f52-a45b1504ff51\">\n",
              "  <button class=\"colab-df-quickchart\" onclick=\"quickchart('df-50517706-b4c7-480e-8f52-a45b1504ff51')\"\n",
              "            title=\"Suggest charts.\"\n",
              "            style=\"display:none;\">\n",
              "\n",
              "<svg xmlns=\"http://www.w3.org/2000/svg\" height=\"24px\"viewBox=\"0 0 24 24\"\n",
              "     width=\"24px\">\n",
              "    <g>\n",
              "        <path d=\"M19 3H5c-1.1 0-2 .9-2 2v14c0 1.1.9 2 2 2h14c1.1 0 2-.9 2-2V5c0-1.1-.9-2-2-2zM9 17H7v-7h2v7zm4 0h-2V7h2v10zm4 0h-2v-4h2v4z\"/>\n",
              "    </g>\n",
              "</svg>\n",
              "  </button>\n",
              "\n",
              "<style>\n",
              "  .colab-df-quickchart {\n",
              "      --bg-color: #E8F0FE;\n",
              "      --fill-color: #1967D2;\n",
              "      --hover-bg-color: #E2EBFA;\n",
              "      --hover-fill-color: #174EA6;\n",
              "      --disabled-fill-color: #AAA;\n",
              "      --disabled-bg-color: #DDD;\n",
              "  }\n",
              "\n",
              "  [theme=dark] .colab-df-quickchart {\n",
              "      --bg-color: #3B4455;\n",
              "      --fill-color: #D2E3FC;\n",
              "      --hover-bg-color: #434B5C;\n",
              "      --hover-fill-color: #FFFFFF;\n",
              "      --disabled-bg-color: #3B4455;\n",
              "      --disabled-fill-color: #666;\n",
              "  }\n",
              "\n",
              "  .colab-df-quickchart {\n",
              "    background-color: var(--bg-color);\n",
              "    border: none;\n",
              "    border-radius: 50%;\n",
              "    cursor: pointer;\n",
              "    display: none;\n",
              "    fill: var(--fill-color);\n",
              "    height: 32px;\n",
              "    padding: 0;\n",
              "    width: 32px;\n",
              "  }\n",
              "\n",
              "  .colab-df-quickchart:hover {\n",
              "    background-color: var(--hover-bg-color);\n",
              "    box-shadow: 0 1px 2px rgba(60, 64, 67, 0.3), 0 1px 3px 1px rgba(60, 64, 67, 0.15);\n",
              "    fill: var(--button-hover-fill-color);\n",
              "  }\n",
              "\n",
              "  .colab-df-quickchart-complete:disabled,\n",
              "  .colab-df-quickchart-complete:disabled:hover {\n",
              "    background-color: var(--disabled-bg-color);\n",
              "    fill: var(--disabled-fill-color);\n",
              "    box-shadow: none;\n",
              "  }\n",
              "\n",
              "  .colab-df-spinner {\n",
              "    border: 2px solid var(--fill-color);\n",
              "    border-color: transparent;\n",
              "    border-bottom-color: var(--fill-color);\n",
              "    animation:\n",
              "      spin 1s steps(1) infinite;\n",
              "  }\n",
              "\n",
              "  @keyframes spin {\n",
              "    0% {\n",
              "      border-color: transparent;\n",
              "      border-bottom-color: var(--fill-color);\n",
              "      border-left-color: var(--fill-color);\n",
              "    }\n",
              "    20% {\n",
              "      border-color: transparent;\n",
              "      border-left-color: var(--fill-color);\n",
              "      border-top-color: var(--fill-color);\n",
              "    }\n",
              "    30% {\n",
              "      border-color: transparent;\n",
              "      border-left-color: var(--fill-color);\n",
              "      border-top-color: var(--fill-color);\n",
              "      border-right-color: var(--fill-color);\n",
              "    }\n",
              "    40% {\n",
              "      border-color: transparent;\n",
              "      border-right-color: var(--fill-color);\n",
              "      border-top-color: var(--fill-color);\n",
              "    }\n",
              "    60% {\n",
              "      border-color: transparent;\n",
              "      border-right-color: var(--fill-color);\n",
              "    }\n",
              "    80% {\n",
              "      border-color: transparent;\n",
              "      border-right-color: var(--fill-color);\n",
              "      border-bottom-color: var(--fill-color);\n",
              "    }\n",
              "    90% {\n",
              "      border-color: transparent;\n",
              "      border-bottom-color: var(--fill-color);\n",
              "    }\n",
              "  }\n",
              "</style>\n",
              "\n",
              "  <script>\n",
              "    async function quickchart(key) {\n",
              "      const quickchartButtonEl =\n",
              "        document.querySelector('#' + key + ' button');\n",
              "      quickchartButtonEl.disabled = true;  // To prevent multiple clicks.\n",
              "      quickchartButtonEl.classList.add('colab-df-spinner');\n",
              "      try {\n",
              "        const charts = await google.colab.kernel.invokeFunction(\n",
              "            'suggestCharts', [key], {});\n",
              "      } catch (error) {\n",
              "        console.error('Error during call to suggestCharts:', error);\n",
              "      }\n",
              "      quickchartButtonEl.classList.remove('colab-df-spinner');\n",
              "      quickchartButtonEl.classList.add('colab-df-quickchart-complete');\n",
              "    }\n",
              "    (() => {\n",
              "      let quickchartButtonEl =\n",
              "        document.querySelector('#df-50517706-b4c7-480e-8f52-a45b1504ff51 button');\n",
              "      quickchartButtonEl.style.display =\n",
              "        google.colab.kernel.accessAllowed ? 'block' : 'none';\n",
              "    })();\n",
              "  </script>\n",
              "</div>\n",
              "    </div>\n",
              "  </div>\n"
            ]
          },
          "metadata": {},
          "execution_count": 753
        }
      ]
    },
    {
      "cell_type": "markdown",
      "source": [
        "### Функция скрещивания"
      ],
      "metadata": {
        "id": "yBceKlOeNQv0"
      }
    },
    {
      "cell_type": "markdown",
      "source": [
        "Опишем функцию, которая будет реализовывать операцию скрещивания:"
      ],
      "metadata": {
        "id": "VGhf2kQmHlYW"
      }
    },
    {
      "cell_type": "code",
      "source": [
        "def crossover(select_individs):\n",
        "\n",
        "  ts = pd.DataFrame({'Особь реальная': [], 'Особь булевая': []})\n",
        "  temp = [] # Кароче тут просто магия я написал, но сам не понял как это работает\n",
        "  for k in range(len(select_individs)): # Перебор детей\n",
        "    bool_individ = np.array(select_individs.iloc[k]['Особь булевая'])\n",
        "    temp.append(bool_individ)\n",
        "  ts['Особь булевая'] = temp\n",
        "  ts['Особь реальная'] = select_individs['Особь реальная'].copy()\n",
        "\n",
        "  children = pd.DataFrame({'Особь реальная': [], 'Особь булевая': []}) # Датафрейм таблица, в ней будут храниться дети\n",
        "  childs_real = [] # Реальный список детей\n",
        "  childs_bool = [] # Булевый список детей\n",
        "\n",
        "  # Этап 1. Сборка малышей\n",
        "  for i in range(33):  # Всего 33 ребёнка\n",
        "  # 1.1. Проверка, что родители разные\n",
        "    while 1:\n",
        "      id_parrent_1 = np.random.randint(0,67)\n",
        "      id_parrent_2 = np.random.randint(0,67)\n",
        "      if id_parrent_1 != id_parrent_2:\n",
        "        break\n",
        "    # 1.2. Сборка малышей\n",
        "    child_real = [] # Реальный ребёнок\n",
        "    child_bool = [] # Булевый ребёнок\n",
        "    for i in range(len(ts.iloc[id_parrent_1]['Особь реальная'])): # Перебираем подмножества\n",
        "      if get_error_subset(ts.iloc[id_parrent_1]['Особь реальная'][i], ideal) < get_error_subset(ts.iloc[id_parrent_2]['Особь реальная'][i], ideal):\n",
        "        child_real.append(ts.iloc[id_parrent_1]['Особь реальная'][i])\n",
        "        child_bool.append(ts.iloc[id_parrent_1]['Особь булевая'][i])\n",
        "      else:\n",
        "        child_real.append(ts.iloc[id_parrent_2]['Особь реальная'][i])\n",
        "        child_bool.append(ts.iloc[id_parrent_2]['Особь булевая'][i])\n",
        "\n",
        "    # Добавляем ребёнка в список детей (булевый и реальный)\n",
        "    childs_real.append(child_real)\n",
        "    childs_bool.append(child_bool)\n",
        "\n",
        "  # Вставляем детей детей в таблицу\n",
        "  children['Особь реальная'] = childs_real\n",
        "  children['Особь булевая'] = childs_bool\n",
        "\n",
        "  # Этап 2. Восстановление подмножеств детей\n",
        "  # 2.1. Если одно и тоже число принадлежит сразу двум подмножествам ребёнка, то удаляем его из подмножества с наименьшей ошибкой\n",
        "  for k in range(len(children)): # Перебор детей\n",
        "    child = children.iloc[k] # Вытаскиваем k-го ребёнка всего их 33\n",
        "    for i in range(len(child['Особь булевая'])): # Перебираем все его подмножества (их 10 штук)\n",
        "      for j in range(i+1,len(child['Особь булевая'])): # Поочерёдно берём остальные подмножества\n",
        "        if 2 in (np.int8(child['Особь булевая'][i]) + np.int8(child['Особь булевая'][j])): # Проверяем не содержится ли одно и то же число в двух подмножествах ребёнка одновременно\n",
        "          array_pos = np.argwhere((np.int8(child['Особь булевая'][i]) + np.int8(child['Особь булевая'][j]))==2) # Находим индекс повторяющегося элемента в подмножествах\n",
        "\n",
        "          # Проверка из какого подмножества необходимо удалять повторяющийся элемент\n",
        "          for pos in array_pos:\n",
        "            if get_error_subset(child['Особь реальная'][i], ideal) > get_error_subset(child['Особь реальная'][j], ideal): # Удаляем повторяющее число из подмножества с наибольшей ошибкой\n",
        "              child['Особь булевая'][i][pos] = False\n",
        "            else:\n",
        "              child['Особь булевая'][j][pos] = False\n",
        "\n",
        "  children['Особь реальная'] = create_real_population(list(children['Особь булевая'])) # Также мы конвертируем новую булевую популяцию в реальную\n",
        "\n",
        "  # 2.2. Если какое-либо число не вошло ни в одно подмножество ребёнка\n",
        "  temp = [] # Кароче тут просто магия я написал, но сам не понял как это работает\n",
        "  for k in range(len(children)): # Перебор детей\n",
        "    bool_child = np.array(children.iloc[k]['Особь булевая'])\n",
        "    temp.append(bool_child)\n",
        "  children['Особь булевая'] = temp\n",
        "\n",
        "  for k in range(len(children)): # Перебор детей\n",
        "    child = children.iloc[k] # Вытаскиваем k-го ребёнка всего их 33\n",
        "    indexes = np.argwhere(np.int8(np.array(child['Особь булевая'])).sum(axis=0)==0).reshape(-1)\n",
        "    digits = U[indexes]\n",
        "    id_and_dig = np.vstack((indexes, digits)).T # Пропущенное число + индекс этого числа в U\n",
        "    id_and_dig = id_and_dig[id_and_dig[:, 1]. argsort ()][::-1] # Сортируем пропущенные числа по возрастанию с привязкой к индексу\n",
        "    id_and_subset = [[i, child['Особь реальная'][i]] for i in range(len(child['Особь реальная']))] # Список элементы которого id + подмножество ребёнка\n",
        "    for i in range(len(id_and_dig)): # Пробегаем по всем числам\n",
        "      id_min_subset = min(id_and_subset, key=lambda el: el[1].sum())[0] # Идентификатор подмножества с наибольшей суммой\n",
        "      id_and_subset[id_min_subset] = [id_min_subset, np.append(id_and_subset[id_min_subset][1], id_and_dig[i][1])] # Добавляем наибольшее число в подмножество с наименьшей суммой\n",
        "      child['Особь реальная'][id_min_subset] =  np.append(child['Особь реальная'][id_min_subset], id_and_dig[i][1])\n",
        "      child['Особь булевая'][id_min_subset][id_and_dig[i,0]] = True\n",
        "\n",
        "  children['Приспособленность'] = [0 for i in range(len(children))] # Присваиваем детям 0 приспособленности\n",
        "\n",
        "  data = pd.concat([children, select_individs]) # Объединяем детей и родителей\n",
        "  data = fitness(data['Особь реальная'], data['Особь булевая'], ideal)\n",
        "\n",
        "  return data"
      ],
      "metadata": {
        "id": "047POPzvHYzg"
      },
      "execution_count": null,
      "outputs": []
    },
    {
      "cell_type": "code",
      "source": [
        "data = crossover(select_individs)\n",
        "data"
      ],
      "metadata": {
        "id": "vGtsAw8CGShR",
        "colab": {
          "base_uri": "https://localhost:8080/",
          "height": 424
        },
        "outputId": "b9c6fb34-73ad-48e4-b35a-72cdfe500995"
      },
      "execution_count": null,
      "outputs": [
        {
          "output_type": "execute_result",
          "data": {
            "text/plain": [
              "                                       Особь реальная  \\\n",
              "0   [[2705, 3380, 3305], [1481, 3176, 3049, 1363],...   \n",
              "1   [[2705, 3380, 3305], [1481, 3176, 3049, 1363],...   \n",
              "2   [[2705, 3380, 3305], [2156, 5932, 1952], [4635...   \n",
              "3   [[3519, 1824, 4068], [4635, 2588, 2787], [836,...   \n",
              "4   [[2588, 3433, 3519], [836, 1363, 3176, 2479, 2...   \n",
              "..                                                ...   \n",
              "95  [[2588, 3433, 3519], [2705, 1363, 4107], [4635...   \n",
              "96  [[836, 2588, 3832, 2156], [2060, 1225, 1952, 3...   \n",
              "97  [[3519, 1824, 4068], [3380, 836, 1363, 3049], ...   \n",
              "98  [[836, 3433, 1363, 528, 3304], [4635, 4068], [...   \n",
              "99  [[1952, 3519, 3305, 4068], [3380, 3433, 3049, ...   \n",
              "\n",
              "                                        Особь булевая  Приспособленность  \n",
              "0   [[False, False, False, False, False, False, Fa...       22943.069047  \n",
              "1   [[False, False, False, False, False, False, Fa...       22943.069047  \n",
              "2   [[False, False, False, False, False, False, Fa...       21579.882660  \n",
              "3   [[False, False, False, False, False, False, Fa...       21480.008716  \n",
              "4   [[False, False, False, False, False, False, Fa...       20818.105971  \n",
              "..                                                ...                ...  \n",
              "95  [[False, False, False, False, False, False, Fa...        3800.042612  \n",
              "96  [[False, False, False, False, False, True, Fal...        3471.832667  \n",
              "97  [[False, False, False, False, False, False, Fa...        3315.283157  \n",
              "98  [[False, False, False, False, False, True, Fal...        1933.410969  \n",
              "99  [[False, False, False, False, False, False, Fa...           1.000000  \n",
              "\n",
              "[100 rows x 3 columns]"
            ],
            "text/html": [
              "\n",
              "  <div id=\"df-0c768a53-c867-4bcf-bf33-4240d0d08a89\" class=\"colab-df-container\">\n",
              "    <div>\n",
              "<style scoped>\n",
              "    .dataframe tbody tr th:only-of-type {\n",
              "        vertical-align: middle;\n",
              "    }\n",
              "\n",
              "    .dataframe tbody tr th {\n",
              "        vertical-align: top;\n",
              "    }\n",
              "\n",
              "    .dataframe thead th {\n",
              "        text-align: right;\n",
              "    }\n",
              "</style>\n",
              "<table border=\"1\" class=\"dataframe\">\n",
              "  <thead>\n",
              "    <tr style=\"text-align: right;\">\n",
              "      <th></th>\n",
              "      <th>Особь реальная</th>\n",
              "      <th>Особь булевая</th>\n",
              "      <th>Приспособленность</th>\n",
              "    </tr>\n",
              "  </thead>\n",
              "  <tbody>\n",
              "    <tr>\n",
              "      <th>0</th>\n",
              "      <td>[[2705, 3380, 3305], [1481, 3176, 3049, 1363],...</td>\n",
              "      <td>[[False, False, False, False, False, False, Fa...</td>\n",
              "      <td>22943.069047</td>\n",
              "    </tr>\n",
              "    <tr>\n",
              "      <th>1</th>\n",
              "      <td>[[2705, 3380, 3305], [1481, 3176, 3049, 1363],...</td>\n",
              "      <td>[[False, False, False, False, False, False, Fa...</td>\n",
              "      <td>22943.069047</td>\n",
              "    </tr>\n",
              "    <tr>\n",
              "      <th>2</th>\n",
              "      <td>[[2705, 3380, 3305], [2156, 5932, 1952], [4635...</td>\n",
              "      <td>[[False, False, False, False, False, False, Fa...</td>\n",
              "      <td>21579.882660</td>\n",
              "    </tr>\n",
              "    <tr>\n",
              "      <th>3</th>\n",
              "      <td>[[3519, 1824, 4068], [4635, 2588, 2787], [836,...</td>\n",
              "      <td>[[False, False, False, False, False, False, Fa...</td>\n",
              "      <td>21480.008716</td>\n",
              "    </tr>\n",
              "    <tr>\n",
              "      <th>4</th>\n",
              "      <td>[[2588, 3433, 3519], [836, 1363, 3176, 2479, 2...</td>\n",
              "      <td>[[False, False, False, False, False, False, Fa...</td>\n",
              "      <td>20818.105971</td>\n",
              "    </tr>\n",
              "    <tr>\n",
              "      <th>...</th>\n",
              "      <td>...</td>\n",
              "      <td>...</td>\n",
              "      <td>...</td>\n",
              "    </tr>\n",
              "    <tr>\n",
              "      <th>95</th>\n",
              "      <td>[[2588, 3433, 3519], [2705, 1363, 4107], [4635...</td>\n",
              "      <td>[[False, False, False, False, False, False, Fa...</td>\n",
              "      <td>3800.042612</td>\n",
              "    </tr>\n",
              "    <tr>\n",
              "      <th>96</th>\n",
              "      <td>[[836, 2588, 3832, 2156], [2060, 1225, 1952, 3...</td>\n",
              "      <td>[[False, False, False, False, False, True, Fal...</td>\n",
              "      <td>3471.832667</td>\n",
              "    </tr>\n",
              "    <tr>\n",
              "      <th>97</th>\n",
              "      <td>[[3519, 1824, 4068], [3380, 836, 1363, 3049], ...</td>\n",
              "      <td>[[False, False, False, False, False, False, Fa...</td>\n",
              "      <td>3315.283157</td>\n",
              "    </tr>\n",
              "    <tr>\n",
              "      <th>98</th>\n",
              "      <td>[[836, 3433, 1363, 528, 3304], [4635, 4068], [...</td>\n",
              "      <td>[[False, False, False, False, False, True, Fal...</td>\n",
              "      <td>1933.410969</td>\n",
              "    </tr>\n",
              "    <tr>\n",
              "      <th>99</th>\n",
              "      <td>[[1952, 3519, 3305, 4068], [3380, 3433, 3049, ...</td>\n",
              "      <td>[[False, False, False, False, False, False, Fa...</td>\n",
              "      <td>1.000000</td>\n",
              "    </tr>\n",
              "  </tbody>\n",
              "</table>\n",
              "<p>100 rows × 3 columns</p>\n",
              "</div>\n",
              "    <div class=\"colab-df-buttons\">\n",
              "\n",
              "  <div class=\"colab-df-container\">\n",
              "    <button class=\"colab-df-convert\" onclick=\"convertToInteractive('df-0c768a53-c867-4bcf-bf33-4240d0d08a89')\"\n",
              "            title=\"Convert this dataframe to an interactive table.\"\n",
              "            style=\"display:none;\">\n",
              "\n",
              "  <svg xmlns=\"http://www.w3.org/2000/svg\" height=\"24px\" viewBox=\"0 -960 960 960\">\n",
              "    <path d=\"M120-120v-720h720v720H120Zm60-500h600v-160H180v160Zm220 220h160v-160H400v160Zm0 220h160v-160H400v160ZM180-400h160v-160H180v160Zm440 0h160v-160H620v160ZM180-180h160v-160H180v160Zm440 0h160v-160H620v160Z\"/>\n",
              "  </svg>\n",
              "    </button>\n",
              "\n",
              "  <style>\n",
              "    .colab-df-container {\n",
              "      display:flex;\n",
              "      gap: 12px;\n",
              "    }\n",
              "\n",
              "    .colab-df-convert {\n",
              "      background-color: #E8F0FE;\n",
              "      border: none;\n",
              "      border-radius: 50%;\n",
              "      cursor: pointer;\n",
              "      display: none;\n",
              "      fill: #1967D2;\n",
              "      height: 32px;\n",
              "      padding: 0 0 0 0;\n",
              "      width: 32px;\n",
              "    }\n",
              "\n",
              "    .colab-df-convert:hover {\n",
              "      background-color: #E2EBFA;\n",
              "      box-shadow: 0px 1px 2px rgba(60, 64, 67, 0.3), 0px 1px 3px 1px rgba(60, 64, 67, 0.15);\n",
              "      fill: #174EA6;\n",
              "    }\n",
              "\n",
              "    .colab-df-buttons div {\n",
              "      margin-bottom: 4px;\n",
              "    }\n",
              "\n",
              "    [theme=dark] .colab-df-convert {\n",
              "      background-color: #3B4455;\n",
              "      fill: #D2E3FC;\n",
              "    }\n",
              "\n",
              "    [theme=dark] .colab-df-convert:hover {\n",
              "      background-color: #434B5C;\n",
              "      box-shadow: 0px 1px 3px 1px rgba(0, 0, 0, 0.15);\n",
              "      filter: drop-shadow(0px 1px 2px rgba(0, 0, 0, 0.3));\n",
              "      fill: #FFFFFF;\n",
              "    }\n",
              "  </style>\n",
              "\n",
              "    <script>\n",
              "      const buttonEl =\n",
              "        document.querySelector('#df-0c768a53-c867-4bcf-bf33-4240d0d08a89 button.colab-df-convert');\n",
              "      buttonEl.style.display =\n",
              "        google.colab.kernel.accessAllowed ? 'block' : 'none';\n",
              "\n",
              "      async function convertToInteractive(key) {\n",
              "        const element = document.querySelector('#df-0c768a53-c867-4bcf-bf33-4240d0d08a89');\n",
              "        const dataTable =\n",
              "          await google.colab.kernel.invokeFunction('convertToInteractive',\n",
              "                                                    [key], {});\n",
              "        if (!dataTable) return;\n",
              "\n",
              "        const docLinkHtml = 'Like what you see? Visit the ' +\n",
              "          '<a target=\"_blank\" href=https://colab.research.google.com/notebooks/data_table.ipynb>data table notebook</a>'\n",
              "          + ' to learn more about interactive tables.';\n",
              "        element.innerHTML = '';\n",
              "        dataTable['output_type'] = 'display_data';\n",
              "        await google.colab.output.renderOutput(dataTable, element);\n",
              "        const docLink = document.createElement('div');\n",
              "        docLink.innerHTML = docLinkHtml;\n",
              "        element.appendChild(docLink);\n",
              "      }\n",
              "    </script>\n",
              "  </div>\n",
              "\n",
              "\n",
              "<div id=\"df-6abff1f9-f81a-4ca3-bbe9-641ad373035e\">\n",
              "  <button class=\"colab-df-quickchart\" onclick=\"quickchart('df-6abff1f9-f81a-4ca3-bbe9-641ad373035e')\"\n",
              "            title=\"Suggest charts.\"\n",
              "            style=\"display:none;\">\n",
              "\n",
              "<svg xmlns=\"http://www.w3.org/2000/svg\" height=\"24px\"viewBox=\"0 0 24 24\"\n",
              "     width=\"24px\">\n",
              "    <g>\n",
              "        <path d=\"M19 3H5c-1.1 0-2 .9-2 2v14c0 1.1.9 2 2 2h14c1.1 0 2-.9 2-2V5c0-1.1-.9-2-2-2zM9 17H7v-7h2v7zm4 0h-2V7h2v10zm4 0h-2v-4h2v4z\"/>\n",
              "    </g>\n",
              "</svg>\n",
              "  </button>\n",
              "\n",
              "<style>\n",
              "  .colab-df-quickchart {\n",
              "      --bg-color: #E8F0FE;\n",
              "      --fill-color: #1967D2;\n",
              "      --hover-bg-color: #E2EBFA;\n",
              "      --hover-fill-color: #174EA6;\n",
              "      --disabled-fill-color: #AAA;\n",
              "      --disabled-bg-color: #DDD;\n",
              "  }\n",
              "\n",
              "  [theme=dark] .colab-df-quickchart {\n",
              "      --bg-color: #3B4455;\n",
              "      --fill-color: #D2E3FC;\n",
              "      --hover-bg-color: #434B5C;\n",
              "      --hover-fill-color: #FFFFFF;\n",
              "      --disabled-bg-color: #3B4455;\n",
              "      --disabled-fill-color: #666;\n",
              "  }\n",
              "\n",
              "  .colab-df-quickchart {\n",
              "    background-color: var(--bg-color);\n",
              "    border: none;\n",
              "    border-radius: 50%;\n",
              "    cursor: pointer;\n",
              "    display: none;\n",
              "    fill: var(--fill-color);\n",
              "    height: 32px;\n",
              "    padding: 0;\n",
              "    width: 32px;\n",
              "  }\n",
              "\n",
              "  .colab-df-quickchart:hover {\n",
              "    background-color: var(--hover-bg-color);\n",
              "    box-shadow: 0 1px 2px rgba(60, 64, 67, 0.3), 0 1px 3px 1px rgba(60, 64, 67, 0.15);\n",
              "    fill: var(--button-hover-fill-color);\n",
              "  }\n",
              "\n",
              "  .colab-df-quickchart-complete:disabled,\n",
              "  .colab-df-quickchart-complete:disabled:hover {\n",
              "    background-color: var(--disabled-bg-color);\n",
              "    fill: var(--disabled-fill-color);\n",
              "    box-shadow: none;\n",
              "  }\n",
              "\n",
              "  .colab-df-spinner {\n",
              "    border: 2px solid var(--fill-color);\n",
              "    border-color: transparent;\n",
              "    border-bottom-color: var(--fill-color);\n",
              "    animation:\n",
              "      spin 1s steps(1) infinite;\n",
              "  }\n",
              "\n",
              "  @keyframes spin {\n",
              "    0% {\n",
              "      border-color: transparent;\n",
              "      border-bottom-color: var(--fill-color);\n",
              "      border-left-color: var(--fill-color);\n",
              "    }\n",
              "    20% {\n",
              "      border-color: transparent;\n",
              "      border-left-color: var(--fill-color);\n",
              "      border-top-color: var(--fill-color);\n",
              "    }\n",
              "    30% {\n",
              "      border-color: transparent;\n",
              "      border-left-color: var(--fill-color);\n",
              "      border-top-color: var(--fill-color);\n",
              "      border-right-color: var(--fill-color);\n",
              "    }\n",
              "    40% {\n",
              "      border-color: transparent;\n",
              "      border-right-color: var(--fill-color);\n",
              "      border-top-color: var(--fill-color);\n",
              "    }\n",
              "    60% {\n",
              "      border-color: transparent;\n",
              "      border-right-color: var(--fill-color);\n",
              "    }\n",
              "    80% {\n",
              "      border-color: transparent;\n",
              "      border-right-color: var(--fill-color);\n",
              "      border-bottom-color: var(--fill-color);\n",
              "    }\n",
              "    90% {\n",
              "      border-color: transparent;\n",
              "      border-bottom-color: var(--fill-color);\n",
              "    }\n",
              "  }\n",
              "</style>\n",
              "\n",
              "  <script>\n",
              "    async function quickchart(key) {\n",
              "      const quickchartButtonEl =\n",
              "        document.querySelector('#' + key + ' button');\n",
              "      quickchartButtonEl.disabled = true;  // To prevent multiple clicks.\n",
              "      quickchartButtonEl.classList.add('colab-df-spinner');\n",
              "      try {\n",
              "        const charts = await google.colab.kernel.invokeFunction(\n",
              "            'suggestCharts', [key], {});\n",
              "      } catch (error) {\n",
              "        console.error('Error during call to suggestCharts:', error);\n",
              "      }\n",
              "      quickchartButtonEl.classList.remove('colab-df-spinner');\n",
              "      quickchartButtonEl.classList.add('colab-df-quickchart-complete');\n",
              "    }\n",
              "    (() => {\n",
              "      let quickchartButtonEl =\n",
              "        document.querySelector('#df-6abff1f9-f81a-4ca3-bbe9-641ad373035e button');\n",
              "      quickchartButtonEl.style.display =\n",
              "        google.colab.kernel.accessAllowed ? 'block' : 'none';\n",
              "    })();\n",
              "  </script>\n",
              "</div>\n",
              "    </div>\n",
              "  </div>\n"
            ]
          },
          "metadata": {},
          "execution_count": 755
        }
      ]
    },
    {
      "cell_type": "markdown",
      "source": [
        "Как можно видеть выше, после операции скрещивания размер популяции снова имеет начальный размер."
      ],
      "metadata": {
        "id": "UQ6Ra8ARBlZf"
      }
    },
    {
      "cell_type": "markdown",
      "source": [
        "Тест (проверка на то, что гены ребёнка были восстановлены):"
      ],
      "metadata": {
        "id": "HiMi-sJNEzhG"
      }
    },
    {
      "cell_type": "code",
      "source": [
        "for i in range(len(data['Особь булевая'])):\n",
        "  temp = np.int8(np.array(data['Особь булевая'][i])).sum(axis=0)\n",
        "  if len(np.argwhere(temp>1))!=0:\n",
        "    print('Тест завален!')\n",
        "    print(f'В {i}-ом ребёнке')"
      ],
      "metadata": {
        "id": "6ryyS4zNDkKt"
      },
      "execution_count": null,
      "outputs": []
    },
    {
      "cell_type": "code",
      "source": [
        "for i in range(len(data['Особь булевая'])):\n",
        "  temp = np.int8(np.array(data['Особь булевая'][i])).sum(axis=0)\n",
        "  print(temp)"
      ],
      "metadata": {
        "colab": {
          "base_uri": "https://localhost:8080/"
        },
        "id": "t-871MuprpIQ",
        "outputId": "08a466a5-edb5-4494-d571-58c891a71e65"
      },
      "execution_count": null,
      "outputs": [
        {
          "output_type": "stream",
          "name": "stdout",
          "text": [
            "[1 1 1 1 1 1 1 1 1 1 1 1 1 1 1 1 1 1 1 1 1 1 1 1 1 1 1 1 1 1 1 1 1 1]\n",
            "[1 1 1 1 1 1 1 1 1 1 1 1 1 1 1 1 1 1 1 1 1 1 1 1 1 1 1 1 1 1 1 1 1 1]\n",
            "[1 1 1 1 1 1 1 1 1 1 1 1 1 1 1 1 1 1 1 1 1 1 1 1 1 1 1 1 1 1 1 1 1 1]\n",
            "[1 1 1 1 1 1 1 1 1 1 1 1 1 1 1 1 1 1 1 1 1 1 1 1 1 1 1 1 1 1 1 1 1 1]\n",
            "[1 1 1 1 1 1 1 1 1 1 1 1 1 1 1 1 1 1 1 1 1 1 1 1 1 1 1 1 1 1 1 1 1 1]\n",
            "[1 1 1 1 1 1 1 1 1 1 1 1 1 1 1 1 1 1 1 1 1 1 1 1 1 1 1 1 1 1 1 1 1 1]\n",
            "[1 1 1 1 1 1 1 1 1 1 1 1 1 1 1 1 1 1 1 1 1 1 1 1 1 1 1 1 1 1 1 1 1 1]\n",
            "[1 1 1 1 1 1 1 1 1 1 1 1 1 1 1 1 1 1 1 1 1 1 1 1 1 1 1 1 1 1 1 1 1 1]\n",
            "[1 1 1 1 1 1 1 1 1 1 1 1 1 1 1 1 1 1 1 1 1 1 1 1 1 1 1 1 1 1 1 1 1 1]\n",
            "[1 1 1 1 1 1 1 1 1 1 1 1 1 1 1 1 1 1 1 1 1 1 1 1 1 1 1 1 1 1 1 1 1 1]\n",
            "[1 1 1 1 1 1 1 1 1 1 1 1 1 1 1 1 1 1 1 1 1 1 1 1 1 1 1 1 1 1 1 1 1 1]\n",
            "[1 1 1 1 1 1 1 1 1 1 1 1 1 1 1 1 1 1 1 1 1 1 1 1 1 1 1 1 1 1 1 1 1 1]\n",
            "[1 1 1 1 1 1 1 1 1 1 1 1 1 1 1 1 1 1 1 1 1 1 1 1 1 1 1 1 1 1 1 1 1 1]\n",
            "[1 1 1 1 1 1 1 1 1 1 1 1 1 1 1 1 1 1 1 1 1 1 1 1 1 1 1 1 1 1 1 1 1 1]\n",
            "[1 1 1 1 1 1 1 1 1 1 1 1 1 1 1 1 1 1 1 1 1 1 1 1 1 1 1 1 1 1 1 1 1 1]\n",
            "[1 1 1 1 1 1 1 1 1 1 1 1 1 1 1 1 1 1 1 1 1 1 1 1 1 1 1 1 1 1 1 1 1 1]\n",
            "[1 1 1 1 1 1 1 1 1 1 1 1 1 1 1 1 1 1 1 1 1 1 1 1 1 1 1 1 1 1 1 1 1 1]\n",
            "[1 1 1 1 1 1 1 1 1 1 1 1 1 1 1 1 1 1 1 1 1 1 1 1 1 1 1 1 1 1 1 1 1 1]\n",
            "[1 1 1 1 1 1 1 1 1 1 1 1 1 1 1 1 1 1 1 1 1 1 1 1 1 1 1 1 1 1 1 1 1 1]\n",
            "[1 1 1 1 1 1 1 1 1 1 1 1 1 1 1 1 1 1 1 1 1 1 1 1 1 1 1 1 1 1 1 1 1 1]\n",
            "[1 1 1 1 1 1 1 1 1 1 1 1 1 1 1 1 1 1 1 1 1 1 1 1 1 1 1 1 1 1 1 1 1 1]\n",
            "[1 1 1 1 1 1 1 1 1 1 1 1 1 1 1 1 1 1 1 1 1 1 1 1 1 1 1 1 1 1 1 1 1 1]\n",
            "[1 1 1 1 1 1 1 1 1 1 1 1 1 1 1 1 1 1 1 1 1 1 1 1 1 1 1 1 1 1 1 1 1 1]\n",
            "[1 1 1 1 1 1 1 1 1 1 1 1 1 1 1 1 1 1 1 1 1 1 1 1 1 1 1 1 1 1 1 1 1 1]\n",
            "[1 1 1 1 1 1 1 1 1 1 1 1 1 1 1 1 1 1 1 1 1 1 1 1 1 1 1 1 1 1 1 1 1 1]\n",
            "[1 1 1 1 1 1 1 1 1 1 1 1 1 1 1 1 1 1 1 1 1 1 1 1 1 1 1 1 1 1 1 1 1 1]\n",
            "[1 1 1 1 1 1 1 1 1 1 1 1 1 1 1 1 1 1 1 1 1 1 1 1 1 1 1 1 1 1 1 1 1 1]\n",
            "[1 1 1 1 1 1 1 1 1 1 1 1 1 1 1 1 1 1 1 1 1 1 1 1 1 1 1 1 1 1 1 1 1 1]\n",
            "[1 1 1 1 1 1 1 1 1 1 1 1 1 1 1 1 1 1 1 1 1 1 1 1 1 1 1 1 1 1 1 1 1 1]\n",
            "[1 1 1 1 1 1 1 1 1 1 1 1 1 1 1 1 1 1 1 1 1 1 1 1 1 1 1 1 1 1 1 1 1 1]\n",
            "[1 1 1 1 1 1 1 1 1 1 1 1 1 1 1 1 1 1 1 1 1 1 1 1 1 1 1 1 1 1 1 1 1 1]\n",
            "[1 1 1 1 1 1 1 1 1 1 1 1 1 1 1 1 1 1 1 1 1 1 1 1 1 1 1 1 1 1 1 1 1 1]\n",
            "[1 1 1 1 1 1 1 1 1 1 1 1 1 1 1 1 1 1 1 1 1 1 1 1 1 1 1 1 1 1 1 1 1 1]\n",
            "[1 1 1 1 1 1 1 1 1 1 1 1 1 1 1 1 1 1 1 1 1 1 1 1 1 1 1 1 1 1 1 1 1 1]\n",
            "[1 1 1 1 1 1 1 1 1 1 1 1 1 1 1 1 1 1 1 1 1 1 1 1 1 1 1 1 1 1 1 1 1 1]\n",
            "[1 1 1 1 1 1 1 1 1 1 1 1 1 1 1 1 1 1 1 1 1 1 1 1 1 1 1 1 1 1 1 1 1 1]\n",
            "[1 1 1 1 1 1 1 1 1 1 1 1 1 1 1 1 1 1 1 1 1 1 1 1 1 1 1 1 1 1 1 1 1 1]\n",
            "[1 1 1 1 1 1 1 1 1 1 1 1 1 1 1 1 1 1 1 1 1 1 1 1 1 1 1 1 1 1 1 1 1 1]\n",
            "[1 1 1 1 1 1 1 1 1 1 1 1 1 1 1 1 1 1 1 1 1 1 1 1 1 1 1 1 1 1 1 1 1 1]\n",
            "[1 1 1 1 1 1 1 1 1 1 1 1 1 1 1 1 1 1 1 1 1 1 1 1 1 1 1 1 1 1 1 1 1 1]\n",
            "[1 1 1 1 1 1 1 1 1 1 1 1 1 1 1 1 1 1 1 1 1 1 1 1 1 1 1 1 1 1 1 1 1 1]\n",
            "[1 1 1 1 1 1 1 1 1 1 1 1 1 1 1 1 1 1 1 1 1 1 1 1 1 1 1 1 1 1 1 1 1 1]\n",
            "[1 1 1 1 1 1 1 1 1 1 1 1 1 1 1 1 1 1 1 1 1 1 1 1 1 1 1 1 1 1 1 1 1 1]\n",
            "[1 1 1 1 1 1 1 1 1 1 1 1 1 1 1 1 1 1 1 1 1 1 1 1 1 1 1 1 1 1 1 1 1 1]\n",
            "[1 1 1 1 1 1 1 1 1 1 1 1 1 1 1 1 1 1 1 1 1 1 1 1 1 1 1 1 1 1 1 1 1 1]\n",
            "[1 1 1 1 1 1 1 1 1 1 1 1 1 1 1 1 1 1 1 1 1 1 1 1 1 1 1 1 1 1 1 1 1 1]\n",
            "[1 1 1 1 1 1 1 1 1 1 1 1 1 1 1 1 1 1 1 1 1 1 1 1 1 1 1 1 1 1 1 1 1 1]\n",
            "[1 1 1 1 1 1 1 1 1 1 1 1 1 1 1 1 1 1 1 1 1 1 1 1 1 1 1 1 1 1 1 1 1 1]\n",
            "[1 1 1 1 1 1 1 1 1 1 1 1 1 1 1 1 1 1 1 1 1 1 1 1 1 1 1 1 1 1 1 1 1 1]\n",
            "[1 1 1 1 1 1 1 1 1 1 1 1 1 1 1 1 1 1 1 1 1 1 1 1 1 1 1 1 1 1 1 1 1 1]\n",
            "[1 1 1 1 1 1 1 1 1 1 1 1 1 1 1 1 1 1 1 1 1 1 1 1 1 1 1 1 1 1 1 1 1 1]\n",
            "[1 1 1 1 1 1 1 1 1 1 1 1 1 1 1 1 1 1 1 1 1 1 1 1 1 1 1 1 1 1 1 1 1 1]\n",
            "[1 1 1 1 1 1 1 1 1 1 1 1 1 1 1 1 1 1 1 1 1 1 1 1 1 1 1 1 1 1 1 1 1 1]\n",
            "[1 1 1 1 1 1 1 1 1 1 1 1 1 1 1 1 1 1 1 1 1 1 1 1 1 1 1 1 1 1 1 1 1 1]\n",
            "[1 1 1 1 1 1 1 1 1 1 1 1 1 1 1 1 1 1 1 1 1 1 1 1 1 1 1 1 1 1 1 1 1 1]\n",
            "[1 1 1 1 1 1 1 1 1 1 1 1 1 1 1 1 1 1 1 1 1 1 1 1 1 1 1 1 1 1 1 1 1 1]\n",
            "[1 1 1 1 1 1 1 1 1 1 1 1 1 1 1 1 1 1 1 1 1 1 1 1 1 1 1 1 1 1 1 1 1 1]\n",
            "[1 1 1 1 1 1 1 1 1 1 1 1 1 1 1 1 1 1 1 1 1 1 1 1 1 1 1 1 1 1 1 1 1 1]\n",
            "[1 1 1 1 1 1 1 1 1 1 1 1 1 1 1 1 1 1 1 1 1 1 1 1 1 1 1 1 1 1 1 1 1 1]\n",
            "[1 1 1 1 1 1 1 1 1 1 1 1 1 1 1 1 1 1 1 1 1 1 1 1 1 1 1 1 1 1 1 1 1 1]\n",
            "[1 1 1 1 1 1 1 1 1 1 1 1 1 1 1 1 1 1 1 1 1 1 1 1 1 1 1 1 1 1 1 1 1 1]\n",
            "[1 1 1 1 1 1 1 1 1 1 1 1 1 1 1 1 1 1 1 1 1 1 1 1 1 1 1 1 1 1 1 1 1 1]\n",
            "[1 1 1 1 1 1 1 1 1 1 1 1 1 1 1 1 1 1 1 1 1 1 1 1 1 1 1 1 1 1 1 1 1 1]\n",
            "[1 1 1 1 1 1 1 1 1 1 1 1 1 1 1 1 1 1 1 1 1 1 1 1 1 1 1 1 1 1 1 1 1 1]\n",
            "[1 1 1 1 1 1 1 1 1 1 1 1 1 1 1 1 1 1 1 1 1 1 1 1 1 1 1 1 1 1 1 1 1 1]\n",
            "[1 1 1 1 1 1 1 1 1 1 1 1 1 1 1 1 1 1 1 1 1 1 1 1 1 1 1 1 1 1 1 1 1 1]\n",
            "[1 1 1 1 1 1 1 1 1 1 1 1 1 1 1 1 1 1 1 1 1 1 1 1 1 1 1 1 1 1 1 1 1 1]\n",
            "[1 1 1 1 1 1 1 1 1 1 1 1 1 1 1 1 1 1 1 1 1 1 1 1 1 1 1 1 1 1 1 1 1 1]\n",
            "[1 1 1 1 1 1 1 1 1 1 1 1 1 1 1 1 1 1 1 1 1 1 1 1 1 1 1 1 1 1 1 1 1 1]\n",
            "[1 1 1 1 1 1 1 1 1 1 1 1 1 1 1 1 1 1 1 1 1 1 1 1 1 1 1 1 1 1 1 1 1 1]\n",
            "[1 1 1 1 1 1 1 1 1 1 1 1 1 1 1 1 1 1 1 1 1 1 1 1 1 1 1 1 1 1 1 1 1 1]\n",
            "[1 1 1 1 1 1 1 1 1 1 1 1 1 1 1 1 1 1 1 1 1 1 1 1 1 1 1 1 1 1 1 1 1 1]\n",
            "[1 1 1 1 1 1 1 1 1 1 1 1 1 1 1 1 1 1 1 1 1 1 1 1 1 1 1 1 1 1 1 1 1 1]\n",
            "[1 1 1 1 1 1 1 1 1 1 1 1 1 1 1 1 1 1 1 1 1 1 1 1 1 1 1 1 1 1 1 1 1 1]\n",
            "[1 1 1 1 1 1 1 1 1 1 1 1 1 1 1 1 1 1 1 1 1 1 1 1 1 1 1 1 1 1 1 1 1 1]\n",
            "[1 1 1 1 1 1 1 1 1 1 1 1 1 1 1 1 1 1 1 1 1 1 1 1 1 1 1 1 1 1 1 1 1 1]\n",
            "[1 1 1 1 1 1 1 1 1 1 1 1 1 1 1 1 1 1 1 1 1 1 1 1 1 1 1 1 1 1 1 1 1 1]\n",
            "[1 1 1 1 1 1 1 1 1 1 1 1 1 1 1 1 1 1 1 1 1 1 1 1 1 1 1 1 1 1 1 1 1 1]\n",
            "[1 1 1 1 1 1 1 1 1 1 1 1 1 1 1 1 1 1 1 1 1 1 1 1 1 1 1 1 1 1 1 1 1 1]\n",
            "[1 1 1 1 1 1 1 1 1 1 1 1 1 1 1 1 1 1 1 1 1 1 1 1 1 1 1 1 1 1 1 1 1 1]\n",
            "[1 1 1 1 1 1 1 1 1 1 1 1 1 1 1 1 1 1 1 1 1 1 1 1 1 1 1 1 1 1 1 1 1 1]\n",
            "[1 1 1 1 1 1 1 1 1 1 1 1 1 1 1 1 1 1 1 1 1 1 1 1 1 1 1 1 1 1 1 1 1 1]\n",
            "[1 1 1 1 1 1 1 1 1 1 1 1 1 1 1 1 1 1 1 1 1 1 1 1 1 1 1 1 1 1 1 1 1 1]\n",
            "[1 1 1 1 1 1 1 1 1 1 1 1 1 1 1 1 1 1 1 1 1 1 1 1 1 1 1 1 1 1 1 1 1 1]\n",
            "[1 1 1 1 1 1 1 1 1 1 1 1 1 1 1 1 1 1 1 1 1 1 1 1 1 1 1 1 1 1 1 1 1 1]\n",
            "[1 1 1 1 1 1 1 1 1 1 1 1 1 1 1 1 1 1 1 1 1 1 1 1 1 1 1 1 1 1 1 1 1 1]\n",
            "[1 1 1 1 1 1 1 1 1 1 1 1 1 1 1 1 1 1 1 1 1 1 1 1 1 1 1 1 1 1 1 1 1 1]\n",
            "[1 1 1 1 1 1 1 1 1 1 1 1 1 1 1 1 1 1 1 1 1 1 1 1 1 1 1 1 1 1 1 1 1 1]\n",
            "[1 1 1 1 1 1 1 1 1 1 1 1 1 1 1 1 1 1 1 1 1 1 1 1 1 1 1 1 1 1 1 1 1 1]\n",
            "[1 1 1 1 1 1 1 1 1 1 1 1 1 1 1 1 1 1 1 1 1 1 1 1 1 1 1 1 1 1 1 1 1 1]\n",
            "[1 1 1 1 1 1 1 1 1 1 1 1 1 1 1 1 1 1 1 1 1 1 1 1 1 1 1 1 1 1 1 1 1 1]\n",
            "[1 1 1 1 1 1 1 1 1 1 1 1 1 1 1 1 1 1 1 1 1 1 1 1 1 1 1 1 1 1 1 1 1 1]\n",
            "[1 1 1 1 1 1 1 1 1 1 1 1 1 1 1 1 1 1 1 1 1 1 1 1 1 1 1 1 1 1 1 1 1 1]\n",
            "[1 1 1 1 1 1 1 1 1 1 1 1 1 1 1 1 1 1 1 1 1 1 1 1 1 1 1 1 1 1 1 1 1 1]\n",
            "[1 1 1 1 1 1 1 1 1 1 1 1 1 1 1 1 1 1 1 1 1 1 1 1 1 1 1 1 1 1 1 1 1 1]\n",
            "[1 1 1 1 1 1 1 1 1 1 1 1 1 1 1 1 1 1 1 1 1 1 1 1 1 1 1 1 1 1 1 1 1 1]\n",
            "[1 1 1 1 1 1 1 1 1 1 1 1 1 1 1 1 1 1 1 1 1 1 1 1 1 1 1 1 1 1 1 1 1 1]\n",
            "[1 1 1 1 1 1 1 1 1 1 1 1 1 1 1 1 1 1 1 1 1 1 1 1 1 1 1 1 1 1 1 1 1 1]\n",
            "[1 1 1 1 1 1 1 1 1 1 1 1 1 1 1 1 1 1 1 1 1 1 1 1 1 1 1 1 1 1 1 1 1 1]\n",
            "[1 1 1 1 1 1 1 1 1 1 1 1 1 1 1 1 1 1 1 1 1 1 1 1 1 1 1 1 1 1 1 1 1 1]\n"
          ]
        }
      ]
    },
    {
      "cell_type": "markdown",
      "source": [
        "### Мутация"
      ],
      "metadata": {
        "id": "G3yD-fzANWwu"
      }
    },
    {
      "cell_type": "markdown",
      "source": [
        "Также как и показано в файле, определяем функцию, которая реализует мутацию генетиечского алгоритма."
      ],
      "metadata": {
        "id": "micWwBy3B3BO"
      }
    },
    {
      "cell_type": "code",
      "source": [
        "def mutation(data):\n",
        "\n",
        "  # Параметры для мутации:\n",
        "  start_groups = [0,7,40,70]\n",
        "  end_groups = [7,40,70,100] # Длина групп\n",
        "  p = [0.1, 0.5, 0.5, 0.5] # Вероятность мутации в каждой группе\n",
        "  q_mutation = [1,4,10,20] # Количество мутаций в каждой группе\n",
        "  for j in range(len(start_groups)): # Перебираем группы\n",
        "    for i in range(start_groups[j], end_groups[j]): # Изымаем каждый элемент из группы\n",
        "      for q in range(end_groups[j]): # Каждый элемент может подвергаться нескольким мутациями\n",
        "        if np.random.uniform()<p[j]:\n",
        "          id_bool_subset1 = np.random.randint(0,10)\n",
        "          id_bool_subset2 = np.random.randint(0,10)\n",
        "          ind1 = np.argwhere(data.iloc[i]['Особь булевая'][id_bool_subset1]==True).reshape(-1)\n",
        "          ind2 = np.argwhere(data.iloc[i]['Особь булевая'][id_bool_subset2]==False).reshape(-1)\n",
        "          if len(np.intersect1d(ind1, ind2))!=0:\n",
        "            data.iloc[i]['Особь булевая'][id_bool_subset1][np.intersect1d(ind1, ind2)[0]] = False\n",
        "            data.iloc[i]['Особь булевая'][id_bool_subset2][np.intersect1d(ind1, ind2)[0]] = True\n",
        "  temp = [] # Кароче тут просто магия я написал, но сам не понял как это работает\n",
        "  for k in range(len(data)): # Перебор детей\n",
        "    bool_individ = list(data.iloc[k]['Особь булевая'])\n",
        "    temp.append(bool_individ)\n",
        "  data['Особь булевая'] = temp\n",
        "  data = fitness(data['Особь реальная'], data['Особь булевая'], ideal) # Вычисляем приспособленность\n",
        "\n",
        "  return data"
      ],
      "metadata": {
        "id": "91_L3RekQU2a"
      },
      "execution_count": null,
      "outputs": []
    },
    {
      "cell_type": "code",
      "source": [
        "data = mutation(data)"
      ],
      "metadata": {
        "id": "NepIeroqQaUI"
      },
      "execution_count": null,
      "outputs": []
    },
    {
      "cell_type": "markdown",
      "source": [
        "Тест (в ходе мутации гены особей не пострадали):"
      ],
      "metadata": {
        "id": "u-eJDlJ-CEH8"
      }
    },
    {
      "cell_type": "code",
      "source": [
        "for i in range(len(data['Особь булевая'])):\n",
        "  temp = np.int8(np.array(data['Особь булевая'][i])).sum(axis=0)\n",
        "  print(temp)"
      ],
      "metadata": {
        "colab": {
          "base_uri": "https://localhost:8080/"
        },
        "id": "kuvP2fA4zBfn",
        "outputId": "9bf043cd-cd0c-4f1f-fb55-6572bd299523"
      },
      "execution_count": null,
      "outputs": [
        {
          "output_type": "stream",
          "name": "stdout",
          "text": [
            "[1 1 1 1 1 1 1 1 1 1 1 1 1 1 1 1 1 1 1 1 1 1 1 1 1 1 1 1 1 1 1 1 1 1]\n",
            "[1 1 1 1 1 1 1 1 1 1 1 1 1 1 1 1 1 1 1 1 1 1 1 1 1 1 1 1 1 1 1 1 1 1]\n",
            "[1 1 1 1 1 1 1 1 1 1 1 1 1 1 1 1 1 1 1 1 1 1 1 1 1 1 1 1 1 1 1 1 1 1]\n",
            "[1 1 1 1 1 1 1 1 1 1 1 1 1 1 1 1 1 1 1 1 1 1 1 1 1 1 1 1 1 1 1 1 1 1]\n",
            "[1 1 1 1 1 1 1 1 1 1 1 1 1 1 1 1 1 1 1 1 1 1 1 1 1 1 1 1 1 1 1 1 1 1]\n",
            "[1 1 1 1 1 1 1 1 1 1 1 1 1 1 1 1 1 1 1 1 1 1 1 1 1 1 1 1 1 1 1 1 1 1]\n",
            "[1 1 1 1 1 1 1 1 1 1 1 1 1 1 1 1 1 1 1 1 1 1 1 1 1 1 1 1 1 1 1 1 1 1]\n",
            "[1 1 1 1 1 1 1 1 1 1 1 1 1 1 1 1 1 1 1 1 1 1 1 1 1 1 1 1 1 1 1 1 1 1]\n",
            "[1 1 1 1 1 1 1 1 1 1 1 1 1 1 1 1 1 1 1 1 1 1 1 1 1 1 1 1 1 1 1 1 1 1]\n",
            "[1 1 1 1 1 1 1 1 1 1 1 1 1 1 1 1 1 1 1 1 1 1 1 1 1 1 1 1 1 1 1 1 1 1]\n",
            "[1 1 1 1 1 1 1 1 1 1 1 1 1 1 1 1 1 1 1 1 1 1 1 1 1 1 1 1 1 1 1 1 1 1]\n",
            "[1 1 1 1 1 1 1 1 1 1 1 1 1 1 1 1 1 1 1 1 1 1 1 1 1 1 1 1 1 1 1 1 1 1]\n",
            "[1 1 1 1 1 1 1 1 1 1 1 1 1 1 1 1 1 1 1 1 1 1 1 1 1 1 1 1 1 1 1 1 1 1]\n",
            "[1 1 1 1 1 1 1 1 1 1 1 1 1 1 1 1 1 1 1 1 1 1 1 1 1 1 1 1 1 1 1 1 1 1]\n",
            "[1 1 1 1 1 1 1 1 1 1 1 1 1 1 1 1 1 1 1 1 1 1 1 1 1 1 1 1 1 1 1 1 1 1]\n",
            "[1 1 1 1 1 1 1 1 1 1 1 1 1 1 1 1 1 1 1 1 1 1 1 1 1 1 1 1 1 1 1 1 1 1]\n",
            "[1 1 1 1 1 1 1 1 1 1 1 1 1 1 1 1 1 1 1 1 1 1 1 1 1 1 1 1 1 1 1 1 1 1]\n",
            "[1 1 1 1 1 1 1 1 1 1 1 1 1 1 1 1 1 1 1 1 1 1 1 1 1 1 1 1 1 1 1 1 1 1]\n",
            "[1 1 1 1 1 1 1 1 1 1 1 1 1 1 1 1 1 1 1 1 1 1 1 1 1 1 1 1 1 1 1 1 1 1]\n",
            "[1 1 1 1 1 1 1 1 1 1 1 1 1 1 1 1 1 1 1 1 1 1 1 1 1 1 1 1 1 1 1 1 1 1]\n",
            "[1 1 1 1 1 1 1 1 1 1 1 1 1 1 1 1 1 1 1 1 1 1 1 1 1 1 1 1 1 1 1 1 1 1]\n",
            "[1 1 1 1 1 1 1 1 1 1 1 1 1 1 1 1 1 1 1 1 1 1 1 1 1 1 1 1 1 1 1 1 1 1]\n",
            "[1 1 1 1 1 1 1 1 1 1 1 1 1 1 1 1 1 1 1 1 1 1 1 1 1 1 1 1 1 1 1 1 1 1]\n",
            "[1 1 1 1 1 1 1 1 1 1 1 1 1 1 1 1 1 1 1 1 1 1 1 1 1 1 1 1 1 1 1 1 1 1]\n",
            "[1 1 1 1 1 1 1 1 1 1 1 1 1 1 1 1 1 1 1 1 1 1 1 1 1 1 1 1 1 1 1 1 1 1]\n",
            "[1 1 1 1 1 1 1 1 1 1 1 1 1 1 1 1 1 1 1 1 1 1 1 1 1 1 1 1 1 1 1 1 1 1]\n",
            "[1 1 1 1 1 1 1 1 1 1 1 1 1 1 1 1 1 1 1 1 1 1 1 1 1 1 1 1 1 1 1 1 1 1]\n",
            "[1 1 1 1 1 1 1 1 1 1 1 1 1 1 1 1 1 1 1 1 1 1 1 1 1 1 1 1 1 1 1 1 1 1]\n",
            "[1 1 1 1 1 1 1 1 1 1 1 1 1 1 1 1 1 1 1 1 1 1 1 1 1 1 1 1 1 1 1 1 1 1]\n",
            "[1 1 1 1 1 1 1 1 1 1 1 1 1 1 1 1 1 1 1 1 1 1 1 1 1 1 1 1 1 1 1 1 1 1]\n",
            "[1 1 1 1 1 1 1 1 1 1 1 1 1 1 1 1 1 1 1 1 1 1 1 1 1 1 1 1 1 1 1 1 1 1]\n",
            "[1 1 1 1 1 1 1 1 1 1 1 1 1 1 1 1 1 1 1 1 1 1 1 1 1 1 1 1 1 1 1 1 1 1]\n",
            "[1 1 1 1 1 1 1 1 1 1 1 1 1 1 1 1 1 1 1 1 1 1 1 1 1 1 1 1 1 1 1 1 1 1]\n",
            "[1 1 1 1 1 1 1 1 1 1 1 1 1 1 1 1 1 1 1 1 1 1 1 1 1 1 1 1 1 1 1 1 1 1]\n",
            "[1 1 1 1 1 1 1 1 1 1 1 1 1 1 1 1 1 1 1 1 1 1 1 1 1 1 1 1 1 1 1 1 1 1]\n",
            "[1 1 1 1 1 1 1 1 1 1 1 1 1 1 1 1 1 1 1 1 1 1 1 1 1 1 1 1 1 1 1 1 1 1]\n",
            "[1 1 1 1 1 1 1 1 1 1 1 1 1 1 1 1 1 1 1 1 1 1 1 1 1 1 1 1 1 1 1 1 1 1]\n",
            "[1 1 1 1 1 1 1 1 1 1 1 1 1 1 1 1 1 1 1 1 1 1 1 1 1 1 1 1 1 1 1 1 1 1]\n",
            "[1 1 1 1 1 1 1 1 1 1 1 1 1 1 1 1 1 1 1 1 1 1 1 1 1 1 1 1 1 1 1 1 1 1]\n",
            "[1 1 1 1 1 1 1 1 1 1 1 1 1 1 1 1 1 1 1 1 1 1 1 1 1 1 1 1 1 1 1 1 1 1]\n",
            "[1 1 1 1 1 1 1 1 1 1 1 1 1 1 1 1 1 1 1 1 1 1 1 1 1 1 1 1 1 1 1 1 1 1]\n",
            "[1 1 1 1 1 1 1 1 1 1 1 1 1 1 1 1 1 1 1 1 1 1 1 1 1 1 1 1 1 1 1 1 1 1]\n",
            "[1 1 1 1 1 1 1 1 1 1 1 1 1 1 1 1 1 1 1 1 1 1 1 1 1 1 1 1 1 1 1 1 1 1]\n",
            "[1 1 1 1 1 1 1 1 1 1 1 1 1 1 1 1 1 1 1 1 1 1 1 1 1 1 1 1 1 1 1 1 1 1]\n",
            "[1 1 1 1 1 1 1 1 1 1 1 1 1 1 1 1 1 1 1 1 1 1 1 1 1 1 1 1 1 1 1 1 1 1]\n",
            "[1 1 1 1 1 1 1 1 1 1 1 1 1 1 1 1 1 1 1 1 1 1 1 1 1 1 1 1 1 1 1 1 1 1]\n",
            "[1 1 1 1 1 1 1 1 1 1 1 1 1 1 1 1 1 1 1 1 1 1 1 1 1 1 1 1 1 1 1 1 1 1]\n",
            "[1 1 1 1 1 1 1 1 1 1 1 1 1 1 1 1 1 1 1 1 1 1 1 1 1 1 1 1 1 1 1 1 1 1]\n",
            "[1 1 1 1 1 1 1 1 1 1 1 1 1 1 1 1 1 1 1 1 1 1 1 1 1 1 1 1 1 1 1 1 1 1]\n",
            "[1 1 1 1 1 1 1 1 1 1 1 1 1 1 1 1 1 1 1 1 1 1 1 1 1 1 1 1 1 1 1 1 1 1]\n",
            "[1 1 1 1 1 1 1 1 1 1 1 1 1 1 1 1 1 1 1 1 1 1 1 1 1 1 1 1 1 1 1 1 1 1]\n",
            "[1 1 1 1 1 1 1 1 1 1 1 1 1 1 1 1 1 1 1 1 1 1 1 1 1 1 1 1 1 1 1 1 1 1]\n",
            "[1 1 1 1 1 1 1 1 1 1 1 1 1 1 1 1 1 1 1 1 1 1 1 1 1 1 1 1 1 1 1 1 1 1]\n",
            "[1 1 1 1 1 1 1 1 1 1 1 1 1 1 1 1 1 1 1 1 1 1 1 1 1 1 1 1 1 1 1 1 1 1]\n",
            "[1 1 1 1 1 1 1 1 1 1 1 1 1 1 1 1 1 1 1 1 1 1 1 1 1 1 1 1 1 1 1 1 1 1]\n",
            "[1 1 1 1 1 1 1 1 1 1 1 1 1 1 1 1 1 1 1 1 1 1 1 1 1 1 1 1 1 1 1 1 1 1]\n",
            "[1 1 1 1 1 1 1 1 1 1 1 1 1 1 1 1 1 1 1 1 1 1 1 1 1 1 1 1 1 1 1 1 1 1]\n",
            "[1 1 1 1 1 1 1 1 1 1 1 1 1 1 1 1 1 1 1 1 1 1 1 1 1 1 1 1 1 1 1 1 1 1]\n",
            "[1 1 1 1 1 1 1 1 1 1 1 1 1 1 1 1 1 1 1 1 1 1 1 1 1 1 1 1 1 1 1 1 1 1]\n",
            "[1 1 1 1 1 1 1 1 1 1 1 1 1 1 1 1 1 1 1 1 1 1 1 1 1 1 1 1 1 1 1 1 1 1]\n",
            "[1 1 1 1 1 1 1 1 1 1 1 1 1 1 1 1 1 1 1 1 1 1 1 1 1 1 1 1 1 1 1 1 1 1]\n",
            "[1 1 1 1 1 1 1 1 1 1 1 1 1 1 1 1 1 1 1 1 1 1 1 1 1 1 1 1 1 1 1 1 1 1]\n",
            "[1 1 1 1 1 1 1 1 1 1 1 1 1 1 1 1 1 1 1 1 1 1 1 1 1 1 1 1 1 1 1 1 1 1]\n",
            "[1 1 1 1 1 1 1 1 1 1 1 1 1 1 1 1 1 1 1 1 1 1 1 1 1 1 1 1 1 1 1 1 1 1]\n",
            "[1 1 1 1 1 1 1 1 1 1 1 1 1 1 1 1 1 1 1 1 1 1 1 1 1 1 1 1 1 1 1 1 1 1]\n",
            "[1 1 1 1 1 1 1 1 1 1 1 1 1 1 1 1 1 1 1 1 1 1 1 1 1 1 1 1 1 1 1 1 1 1]\n",
            "[1 1 1 1 1 1 1 1 1 1 1 1 1 1 1 1 1 1 1 1 1 1 1 1 1 1 1 1 1 1 1 1 1 1]\n",
            "[1 1 1 1 1 1 1 1 1 1 1 1 1 1 1 1 1 1 1 1 1 1 1 1 1 1 1 1 1 1 1 1 1 1]\n",
            "[1 1 1 1 1 1 1 1 1 1 1 1 1 1 1 1 1 1 1 1 1 1 1 1 1 1 1 1 1 1 1 1 1 1]\n",
            "[1 1 1 1 1 1 1 1 1 1 1 1 1 1 1 1 1 1 1 1 1 1 1 1 1 1 1 1 1 1 1 1 1 1]\n",
            "[1 1 1 1 1 1 1 1 1 1 1 1 1 1 1 1 1 1 1 1 1 1 1 1 1 1 1 1 1 1 1 1 1 1]\n",
            "[1 1 1 1 1 1 1 1 1 1 1 1 1 1 1 1 1 1 1 1 1 1 1 1 1 1 1 1 1 1 1 1 1 1]\n",
            "[1 1 1 1 1 1 1 1 1 1 1 1 1 1 1 1 1 1 1 1 1 1 1 1 1 1 1 1 1 1 1 1 1 1]\n",
            "[1 1 1 1 1 1 1 1 1 1 1 1 1 1 1 1 1 1 1 1 1 1 1 1 1 1 1 1 1 1 1 1 1 1]\n",
            "[1 1 1 1 1 1 1 1 1 1 1 1 1 1 1 1 1 1 1 1 1 1 1 1 1 1 1 1 1 1 1 1 1 1]\n",
            "[1 1 1 1 1 1 1 1 1 1 1 1 1 1 1 1 1 1 1 1 1 1 1 1 1 1 1 1 1 1 1 1 1 1]\n",
            "[1 1 1 1 1 1 1 1 1 1 1 1 1 1 1 1 1 1 1 1 1 1 1 1 1 1 1 1 1 1 1 1 1 1]\n",
            "[1 1 1 1 1 1 1 1 1 1 1 1 1 1 1 1 1 1 1 1 1 1 1 1 1 1 1 1 1 1 1 1 1 1]\n",
            "[1 1 1 1 1 1 1 1 1 1 1 1 1 1 1 1 1 1 1 1 1 1 1 1 1 1 1 1 1 1 1 1 1 1]\n",
            "[1 1 1 1 1 1 1 1 1 1 1 1 1 1 1 1 1 1 1 1 1 1 1 1 1 1 1 1 1 1 1 1 1 1]\n",
            "[1 1 1 1 1 1 1 1 1 1 1 1 1 1 1 1 1 1 1 1 1 1 1 1 1 1 1 1 1 1 1 1 1 1]\n",
            "[1 1 1 1 1 1 1 1 1 1 1 1 1 1 1 1 1 1 1 1 1 1 1 1 1 1 1 1 1 1 1 1 1 1]\n",
            "[1 1 1 1 1 1 1 1 1 1 1 1 1 1 1 1 1 1 1 1 1 1 1 1 1 1 1 1 1 1 1 1 1 1]\n",
            "[1 1 1 1 1 1 1 1 1 1 1 1 1 1 1 1 1 1 1 1 1 1 1 1 1 1 1 1 1 1 1 1 1 1]\n",
            "[1 1 1 1 1 1 1 1 1 1 1 1 1 1 1 1 1 1 1 1 1 1 1 1 1 1 1 1 1 1 1 1 1 1]\n",
            "[1 1 1 1 1 1 1 1 1 1 1 1 1 1 1 1 1 1 1 1 1 1 1 1 1 1 1 1 1 1 1 1 1 1]\n",
            "[1 1 1 1 1 1 1 1 1 1 1 1 1 1 1 1 1 1 1 1 1 1 1 1 1 1 1 1 1 1 1 1 1 1]\n",
            "[1 1 1 1 1 1 1 1 1 1 1 1 1 1 1 1 1 1 1 1 1 1 1 1 1 1 1 1 1 1 1 1 1 1]\n",
            "[1 1 1 1 1 1 1 1 1 1 1 1 1 1 1 1 1 1 1 1 1 1 1 1 1 1 1 1 1 1 1 1 1 1]\n",
            "[1 1 1 1 1 1 1 1 1 1 1 1 1 1 1 1 1 1 1 1 1 1 1 1 1 1 1 1 1 1 1 1 1 1]\n",
            "[1 1 1 1 1 1 1 1 1 1 1 1 1 1 1 1 1 1 1 1 1 1 1 1 1 1 1 1 1 1 1 1 1 1]\n",
            "[1 1 1 1 1 1 1 1 1 1 1 1 1 1 1 1 1 1 1 1 1 1 1 1 1 1 1 1 1 1 1 1 1 1]\n",
            "[1 1 1 1 1 1 1 1 1 1 1 1 1 1 1 1 1 1 1 1 1 1 1 1 1 1 1 1 1 1 1 1 1 1]\n",
            "[1 1 1 1 1 1 1 1 1 1 1 1 1 1 1 1 1 1 1 1 1 1 1 1 1 1 1 1 1 1 1 1 1 1]\n",
            "[1 1 1 1 1 1 1 1 1 1 1 1 1 1 1 1 1 1 1 1 1 1 1 1 1 1 1 1 1 1 1 1 1 1]\n",
            "[1 1 1 1 1 1 1 1 1 1 1 1 1 1 1 1 1 1 1 1 1 1 1 1 1 1 1 1 1 1 1 1 1 1]\n",
            "[1 1 1 1 1 1 1 1 1 1 1 1 1 1 1 1 1 1 1 1 1 1 1 1 1 1 1 1 1 1 1 1 1 1]\n",
            "[1 1 1 1 1 1 1 1 1 1 1 1 1 1 1 1 1 1 1 1 1 1 1 1 1 1 1 1 1 1 1 1 1 1]\n",
            "[1 1 1 1 1 1 1 1 1 1 1 1 1 1 1 1 1 1 1 1 1 1 1 1 1 1 1 1 1 1 1 1 1 1]\n",
            "[1 1 1 1 1 1 1 1 1 1 1 1 1 1 1 1 1 1 1 1 1 1 1 1 1 1 1 1 1 1 1 1 1 1]\n"
          ]
        }
      ]
    },
    {
      "cell_type": "markdown",
      "source": [
        "## Сборка"
      ],
      "metadata": {
        "id": "m_S_zjybLHEY"
      }
    },
    {
      "cell_type": "markdown",
      "source": [
        "После того как были запрограммированы все компоненты генетического алгоритма, настало время собрать его и применить. Для начала определим исходные данные:"
      ],
      "metadata": {
        "id": "Fy47NYs3CNqn"
      }
    },
    {
      "cell_type": "code",
      "source": [
        "U = np.array([3380, 1824, 1481, 2060, 1225, 836, 1363, 2705, 4635,\n",
        "              648, 2588, 3380, 1952, 3832, 3176, 2316,\n",
        "              2479, 3433, 3519, 1363, 1824, 3305, 2156, 3305,\n",
        "              3049, 3980, 2787, 4635, 4068, 2992, 5932, 528,\n",
        "              3304, 4107], dtype='int16')\n",
        "\n",
        "l = U.size # Количесвто элементов\n",
        "q = 10 # Количесвто подмножеств\n",
        "Q = 100 # Количество особей (разбиений, то есть partitions)\n",
        "total = U.sum()\n",
        "ideal = U.sum()/q # Идеальная сумма в подмножствах\n",
        "\n",
        "print(f'Количество элементов в исходном множестве: {l}')\n",
        "print(f'Количество подмножеств: {q}')\n",
        "print(f'Количество особей: {Q}')\n",
        "print(f'Сумма всех чисел в массиве: {total}')\n",
        "print(f'Идеальная сумма чисел в подмножестве: {ideal}')"
      ],
      "metadata": {
        "colab": {
          "base_uri": "https://localhost:8080/"
        },
        "id": "HUhcVFpsLOr0",
        "outputId": "3a8bb21f-c025-42b9-dc70-4232618fe684"
      },
      "execution_count": null,
      "outputs": [
        {
          "output_type": "stream",
          "name": "stdout",
          "text": [
            "Количество элементов в исходном множестве: 34\n",
            "Количество подмножеств: 10\n",
            "Количество особей: 100\n",
            "Сумма всех чисел в массиве: 94167\n",
            "Идеальная сумма чисел в подмножестве: 9416.7\n"
          ]
        }
      ]
    },
    {
      "cell_type": "markdown",
      "source": [
        "Ниже приведена функция Генетического алгоритма, которая ищет наилучшее разбиение множества на подмножества с наиболее одинаковой суммой:"
      ],
      "metadata": {
        "id": "ONcR6dNyCqB0"
      }
    },
    {
      "cell_type": "code",
      "source": [
        "def GA(eps = 500, times = 5):\n",
        "\n",
        "  res = {'Статус': 'С таким eps не нашлось'}\n",
        "\n",
        "  bool_population = create_bool_population(Q,U,q,l) # Генерируем булевую популяцию\n",
        "  real_population = create_real_population(bool_population) # Генерируем реальную популяцию\n",
        "  union_population = create_union_population(real_population, bool_population, Q) # Создаём общую популяцию (два представления)\n",
        "  real_population, bool_population = sort_subsets_in_population(union_population, ideal, Q) # Упорядочиваем подмножества у всех индивидов\n",
        "  data = fitness(real_population, bool_population, ideal) # Создаём таблицу, где каждому индвиду задаём приспособленность\n",
        "\n",
        "  for time in range(times):\n",
        "    select_individs = selection(data) # Отбор\n",
        "    data = crossover(select_individs) # Скрещивание\n",
        "    data = mutation(data)\n",
        "    lst_error_partition = list(map(lambda i: (i, get_error_partition(data['Особь реальная'][i], ideal)), range(len(data['Особь реальная']))))\n",
        "    info_min_partition = min(lst_error_partition, key=lambda el: el[1])\n",
        "    print(info_min_partition)\n",
        "    if info_min_partition[1]<eps:\n",
        "      res = {\n",
        "          'Разбиение с наименьшей ошибкой': data['Особь реальная'][info_min_partition[0]],\n",
        "          'Ошибка разбиения': info_min_partition[1],\n",
        "          'Номер популяции': time\n",
        "          }\n",
        "      break\n",
        "\n",
        "  return res"
      ],
      "metadata": {
        "id": "CBTS1SowKZ0d"
      },
      "execution_count": null,
      "outputs": []
    },
    {
      "cell_type": "code",
      "source": [
        "res = GA(eps = 500, times = 100)"
      ],
      "metadata": {
        "id": "rYuH7cd7NDUo"
      },
      "execution_count": null,
      "outputs": []
    },
    {
      "cell_type": "markdown",
      "source": [
        "Как можно видеть ниже, генетический алгоритм отработал и нашёл следующее решение (Решение было найдено на 52+1 итерации, ошибка разбиения составляет около 399 квадратных единиц, так как использовалось Евклидово расстояние):"
      ],
      "metadata": {
        "id": "6cbTlIHpC0a8"
      }
    },
    {
      "cell_type": "code",
      "source": [
        "res"
      ],
      "metadata": {
        "colab": {
          "base_uri": "https://localhost:8080/"
        },
        "id": "JtNc7p_rURJD",
        "outputId": "0fa8a4c2-55d0-4014-add2-db61f53c5008"
      },
      "execution_count": null,
      "outputs": [
        {
          "output_type": "execute_result",
          "data": {
            "text/plain": [
              "{'Разбиение с наименьшей ошибкой': [array([3305, 2787,  528, 2705]),\n",
              "  array([5932, 2992,  648]),\n",
              "  array([4635, 3380, 1363]),\n",
              "  array([4635, 3305, 1481]),\n",
              "  array([1225, 3832, 2156, 2316]),\n",
              "  array([3049, 4107, 2479]),\n",
              "  array([4068, 3380, 1824]),\n",
              "  array([3176, 3519, 2588]),\n",
              "  array([ 836, 3980, 3304, 1363]),\n",
              "  array([2060, 1824, 3433, 1952])],\n",
              " 'Ошибка разбиения': 399.16675713290556,\n",
              " 'Номер популяции': 52}"
            ]
          },
          "metadata": {},
          "execution_count": 823
        }
      ]
    },
    {
      "cell_type": "markdown",
      "source": [
        "Также проиллюстрируем полученный результат графиком, на котором видно,  суммы подмножеств получились очень близкими между собой и близкими к идеальному значению:"
      ],
      "metadata": {
        "id": "jje-76_kDTmY"
      }
    },
    {
      "cell_type": "code",
      "source": [
        "x = [0,11]\n",
        "y = [ideal, ideal]\n",
        "x_for_bar = [i for i in range(1,11)]\n",
        "y_for_bar = [real_partition.sum() for real_partition in res['Разбиение с наименьшей ошибкой']]\n",
        "\n",
        "f = plt.figure(figsize=(5,5))\n",
        "ax = f.add_subplot()\n",
        "ax.set_ylim([0, ideal*2])\n",
        "ax.plot(x,y, c='#FF0000', label='Идеальная сумма')\n",
        "ax.bar(x_for_bar, y_for_bar, label='Фактическая сумма')\n",
        "ax.legend()"
      ],
      "metadata": {
        "colab": {
          "base_uri": "https://localhost:8080/",
          "height": 462
        },
        "id": "f4llAKWsO2wh",
        "outputId": "8795441e-3098-4147-a153-218decbe0569"
      },
      "execution_count": null,
      "outputs": [
        {
          "output_type": "execute_result",
          "data": {
            "text/plain": [
              "<matplotlib.legend.Legend at 0x7e1a5b793730>"
            ]
          },
          "metadata": {},
          "execution_count": 842
        },
        {
          "output_type": "display_data",
          "data": {
            "text/plain": [
              "<Figure size 500x500 with 1 Axes>"
            ],
            "image/png": "[encoded data removed]"
          },
          "metadata": {}
        }
      ]
    },
    {
      "cell_type": "code",
      "source": [],
      "metadata": {
        "id": "o0WqUeN2bQTN"
      },
      "execution_count": null,
      "outputs": []
    }
  ]
}